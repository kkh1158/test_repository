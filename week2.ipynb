{
 "cells": [
  {
   "cell_type": "code",
   "execution_count": 30,
   "metadata": {},
   "outputs": [],
   "source": [
    "def fun(n):\n",
    "    if n==0:\n",
    "        return 0\n",
    "    return n+fun(n-1)"
   ]
  },
  {
   "cell_type": "code",
   "execution_count": 29,
   "metadata": {},
   "outputs": [
    {
     "data": {
      "text/plain": [
       "1"
      ]
     },
     "execution_count": 29,
     "metadata": {},
     "output_type": "execute_result"
    }
   ],
   "source": [
    "fun(0)"
   ]
  },
  {
   "cell_type": "markdown",
   "metadata": {},
   "source": [
    "# 피보나치\n",
    "    \n",
    "    F_0 = 0\n",
    "    F_1 = 1\n",
    "    F_2 = F_1 + F_0\n",
    "    F_3 = F_2 + F_1\n",
    "\n",
    "\n",
    "    F_n = F_(n-1) + F_(n-2)\n"
   ]
  },
  {
   "cell_type": "code",
   "execution_count": 68,
   "metadata": {},
   "outputs": [
    {
     "name": "stdout",
     "output_type": "stream",
     "text": [
      "[0, 1, 1, 2, 3, 5, 8, 13, 21, 34, 55, 89, 144, 233, 377, 610, 987, 1597, 2584, 4181, 6765, 10946, 17711, 28657, 46368, 75025, 121393, 196418, 317811, 514229, 832040, 1346269, 2178309, 3524578, 5702887, 9227465, 14930352, 24157817, 39088169, 63245986, 102334155, 165580141, 267914296, 433494437, 701408733, 1134903170, 1836311903, 2971215073, 4807526976, 7778742049, 12586269025, 20365011074, 32951280099, 53316291173, 86267571272, 139583862445, 225851433717, 365435296162, 591286729879, 956722026041, 1548008755920, 2504730781961, 4052739537881, 6557470319842, 10610209857723, 17167680177565, 27777890035288, 44945570212853, 72723460248141, 117669030460994, 190392490709135, 308061521170129, 498454011879264, 806515533049393, 1304969544928657, 2111485077978050, 3416454622906707, 5527939700884757, 8944394323791464, 14472334024676221, 23416728348467685, 37889062373143906, 61305790721611591, 99194853094755497, 160500643816367088, 259695496911122585, 420196140727489673, 679891637638612258, 1100087778366101931, 1779979416004714189, 2880067194370816120, 4660046610375530309, 7540113804746346429, 12200160415121876738, 19740274219868223167, 31940434634990099905, 51680708854858323072, 83621143489848422977, 135301852344706746049, 218922995834555169026]\n"
     ]
    }
   ],
   "source": [
    "# n 번째 피보나치 수열 구하기\n",
    "\n",
    "n = 100\n",
    "\n",
    "f = [0, 1]\n",
    "\n",
    "for i in range(2, n):\n",
    "    f.append(f[i-1]+f[-2])\n",
    "\n",
    "print(f)\n",
    "\n"
   ]
  },
  {
   "cell_type": "code",
   "execution_count": 2,
   "metadata": {},
   "outputs": [
    {
     "data": {
      "text/plain": [
       "34"
      ]
     },
     "execution_count": 2,
     "metadata": {},
     "output_type": "execute_result"
    }
   ],
   "source": [
    "m = 10\n",
    "\n",
    "def fi(n):\n",
    "    if n<=1:\n",
    "        return n\n",
    "    else:\n",
    "        return fi(n-1) + fi(n-2)\n",
    "    \n",
    "fi(m-1)"
   ]
  },
  {
   "cell_type": "markdown",
   "metadata": {},
   "source": [
    "# 지역변수, 전역변수"
   ]
  },
  {
   "cell_type": "code",
   "execution_count": 16,
   "metadata": {},
   "outputs": [
    {
     "name": "stdout",
     "output_type": "stream",
     "text": [
      "10\n"
     ]
    }
   ],
   "source": [
    "ret = 0 # 전역변수, global variable(주피터 전체에서 참조 가능)\n",
    "\n",
    "def f(lists=[]): # arguments, 매개변수, 인자\n",
    "    ret = 0 # 지역변수, local variable(외부에서 참조할수없음: 함수안에서 정의되었기 때문)\n",
    "    for element in lists:\n",
    "        if element > ret:\n",
    "            ret = element\n",
    "    return ret\n",
    "\n",
    "n = [1, 2, 3, 10, 5]\n",
    "\n",
    "print(f(n))"
   ]
  },
  {
   "cell_type": "markdown",
   "metadata": {},
   "source": [
    "# lambda\n",
    "\n",
    "\n",
    "- 머신러닝같은 인공지능 분야에서는 많이 쓰임\n",
    "\n",
    "```\n",
    "lambda aoroaustn : 표현식\n",
    "```"
   ]
  },
  {
   "cell_type": "code",
   "execution_count": 18,
   "metadata": {},
   "outputs": [
    {
     "data": {
      "text/plain": [
       "30"
      ]
     },
     "execution_count": 18,
     "metadata": {},
     "output_type": "execute_result"
    }
   ],
   "source": [
    "def add(a, b):\n",
    "    return a+b\n",
    "\n",
    "add(10,20)"
   ]
  },
  {
   "cell_type": "code",
   "execution_count": 20,
   "metadata": {},
   "outputs": [
    {
     "data": {
      "text/plain": [
       "30"
      ]
     },
     "execution_count": 20,
     "metadata": {},
     "output_type": "execute_result"
    }
   ],
   "source": [
    "(lambda a, b : a+b)(10, 20) # 역명함수, 일회성 함수같은 개념"
   ]
  },
  {
   "cell_type": "code",
   "execution_count": 25,
   "metadata": {},
   "outputs": [
    {
     "data": {
      "text/plain": [
       "100"
      ]
     },
     "execution_count": 25,
     "metadata": {},
     "output_type": "execute_result"
    }
   ],
   "source": [
    "(lambda a, b, c, d : a+b+c+d)(10, 20, 30, 40)"
   ]
  },
  {
   "cell_type": "markdown",
   "metadata": {},
   "source": [
    "# map\n",
    "\n",
    "- 함수와 리시트를 매개변수로 하는 함수\n",
    "\n",
    "```\n",
    "    map(함수(람다), 리스트)\n",
    "```"
   ]
  },
  {
   "cell_type": "code",
   "execution_count": 30,
   "metadata": {},
   "outputs": [
    {
     "data": {
      "text/plain": [
       "<map at 0x7f5e60454090>"
      ]
     },
     "execution_count": 30,
     "metadata": {},
     "output_type": "execute_result"
    }
   ],
   "source": [
    "map(lambda a, b : a+b, range(10), range(10))"
   ]
  },
  {
   "cell_type": "code",
   "execution_count": 37,
   "metadata": {},
   "outputs": [
    {
     "name": "stdout",
     "output_type": "stream",
     "text": [
      "0\n",
      "2\n",
      "4\n",
      "6\n",
      "8\n",
      "10\n",
      "12\n",
      "14\n",
      "16\n",
      "18\n"
     ]
    }
   ],
   "source": [
    "for e in map(lambda a, b : a+b, range(10), range(10)):\n",
    "    print(e)"
   ]
  },
  {
   "cell_type": "code",
   "execution_count": 31,
   "metadata": {},
   "outputs": [
    {
     "data": {
      "text/plain": [
       "[0, 2, 4, 6, 8, 10, 12, 14, 16, 18]"
      ]
     },
     "execution_count": 31,
     "metadata": {},
     "output_type": "execute_result"
    }
   ],
   "source": [
    "list(map(lambda a, b : a+b, range(10), range(10)))"
   ]
  },
  {
   "cell_type": "code",
   "execution_count": 32,
   "metadata": {},
   "outputs": [
    {
     "data": {
      "text/plain": [
       "range(0, 10)"
      ]
     },
     "execution_count": 32,
     "metadata": {},
     "output_type": "execute_result"
    }
   ],
   "source": [
    "range(10)"
   ]
  },
  {
   "cell_type": "code",
   "execution_count": 33,
   "metadata": {},
   "outputs": [
    {
     "data": {
      "text/plain": [
       "[0, 1, 2, 3, 4, 5, 6, 7, 8, 9]"
      ]
     },
     "execution_count": 33,
     "metadata": {},
     "output_type": "execute_result"
    }
   ],
   "source": [
    "list(range(10))"
   ]
  },
  {
   "cell_type": "markdown",
   "metadata": {},
   "source": [
    "# 클래스\n",
    "\n",
    "- 사용자 정의 데이터 타입\n",
    "\n",
    "```\n",
    "    class 클래스이름():\n",
    "    \n",
    "```\n",
    "\n",
    "- 클래스 이름은 대문자로 시작\n",
    "\n",
    "## 은닉성(캡슐화)\n",
    "\n",
    "    - getter\n",
    "    - setter\n",
    "    \n",
    "## 다형성\n",
    "    \n",
    "    - 오버로딩(over loading) 파이썬 지원안함 구현불가 ㅎㅎ\n",
    "    - 오버라이딩(over riding) 하나에 클래스 안에 같은 이름의 메소드 여러개 가능\n",
    "    \n",
    "## 상속\n",
    "    \n",
    "    - 다중상속\n",
    "    - 추상클래스\n",
    "    - is-a, has-a\n",
    "    "
   ]
  },
  {
   "cell_type": "code",
   "execution_count": 3,
   "metadata": {},
   "outputs": [],
   "source": [
    "class Person():\n",
    "    # 속성(변수), 사람이라면 누구나 가지는 속성\n",
    "    # 멤버 변수\n",
    "    _age1 = 10 # private\n",
    "    name = '' # public\n",
    "    \n",
    "    # 생성자 정의\n",
    "    def __init__(self, age=0, name=''):\n",
    "        self._age1 = age\n",
    "        self.name = name\n",
    "        print(self.name + \"생성자 실행\")\n",
    "        \n",
    "    # 소멸자 정의\n",
    "    def __del__(self):\n",
    "        print(self.name + \"소멸자 실행\")\n",
    "    \n",
    "    # getter decorate\n",
    "    @property\n",
    "    def age(self):\n",
    "        return self._age1\n",
    "    \n",
    "    # setter decorate\n",
    "    @age.setter\n",
    "    def age(self, personage):\n",
    "        self._age1 = personage\n",
    "        \n",
    "    # 기능(함수)\n",
    "    def eat(self): # 멤버 메서드(member method)\n",
    "        print(\"77ㅓ억~\")\n",
    "    def sleep(self):\n",
    "        print(\"zZ~ zZ~ zZ~\")"
   ]
  },
  {
   "cell_type": "code",
   "execution_count": 81,
   "metadata": {},
   "outputs": [
    {
     "name": "stdout",
     "output_type": "stream",
     "text": [
      "son생성자 실행\n",
      "son소멸자 실행\n",
      "<__main__.Person object at 0x7fce33c4d890>\n"
     ]
    }
   ],
   "source": [
    "person3 = Person(12, 'son')\n",
    "print(person3)"
   ]
  },
  {
   "cell_type": "code",
   "execution_count": 72,
   "metadata": {},
   "outputs": [
    {
     "name": "stdout",
     "output_type": "stream",
     "text": [
      "Lee생성자 실행\n",
      "An생성자 실행\n"
     ]
    }
   ],
   "source": [
    "person1 = Person(\"Lee\") # 객체 생성, 생성자 호출\n",
    "person2 = Person(\"An\")"
   ]
  },
  {
   "cell_type": "code",
   "execution_count": 73,
   "metadata": {},
   "outputs": [
    {
     "name": "stdout",
     "output_type": "stream",
     "text": [
      "10\n",
      "Lee\n",
      "77ㅓ억~\n",
      "KIMKIM\n"
     ]
    }
   ],
   "source": [
    "print(person1._age1)\n",
    "print(person1.name)\n",
    "person1.eat()\n",
    "person1.name = \"KIMKIM\"\n",
    "print(person1.name)"
   ]
  },
  {
   "cell_type": "code",
   "execution_count": 74,
   "metadata": {},
   "outputs": [
    {
     "data": {
      "text/plain": [
       "10"
      ]
     },
     "execution_count": 74,
     "metadata": {},
     "output_type": "execute_result"
    }
   ],
   "source": [
    "# 멤버 메서드지만 변수처럼 사용 사능\n",
    "# person1.age()\n",
    "person1.age"
   ]
  },
  {
   "cell_type": "code",
   "execution_count": 75,
   "metadata": {},
   "outputs": [
    {
     "data": {
      "text/plain": [
       "20"
      ]
     },
     "execution_count": 75,
     "metadata": {},
     "output_type": "execute_result"
    }
   ],
   "source": [
    "# 변수처럼 사용 가능\n",
    "# person1.age(20)\n",
    "person1.age1 = 20\n",
    "person1.age1"
   ]
  },
  {
   "cell_type": "code",
   "execution_count": 76,
   "metadata": {},
   "outputs": [
    {
     "name": "stdout",
     "output_type": "stream",
     "text": [
      "KIMKIM소멸자 실행\n",
      "An소멸자 실행\n"
     ]
    }
   ],
   "source": [
    "del person1\n",
    "del person2"
   ]
  },
  {
   "cell_type": "code",
   "execution_count": 41,
   "metadata": {},
   "outputs": [],
   "source": [
    "class Icecream():\n",
    "    def __init__(self, name=\"None\", price=0):\n",
    "        self._name=name\n",
    "        self._price=0\n",
    "        print(\"아무튼 생성됨\")\n",
    "    \n",
    "    def __del__(self):\n",
    "        print(\"아무튼 지워짐\")\n",
    "    \n",
    "    @property\n",
    "    def icecream(self):\n",
    "        #return self._name\n",
    "        print(\"이름: \", self._name)\n",
    "        print(\"가격: \", self._price, \"원\")\n",
    "    \n",
    "    @icecream.setter\n",
    "    def icecream(self, price):\n",
    "        self._price = price\n",
    "        print(\"가격변동 ㅎㅎ\")\n",
    "    \n",
    "    def ice(self):\n",
    "        print(self._name)\n",
    "    \n",
    "    def melt(self):\n",
    "        print(\"녹음!\")"
   ]
  },
  {
   "cell_type": "code",
   "execution_count": 37,
   "metadata": {},
   "outputs": [
    {
     "name": "stdout",
     "output_type": "stream",
     "text": [
      "아무튼 생성됨\n",
      "아무튼 생성됨\n"
     ]
    }
   ],
   "source": [
    "new1 = Icecream(\"빠삐코\", 300)\n",
    "new2 = Icecream(\"워드콘\", 700)"
   ]
  },
  {
   "cell_type": "code",
   "execution_count": 38,
   "metadata": {},
   "outputs": [
    {
     "name": "stdout",
     "output_type": "stream",
     "text": [
      "이름:  빠삐코\n",
      "가격:  0 원\n"
     ]
    }
   ],
   "source": [
    "new1.icecream"
   ]
  },
  {
   "cell_type": "code",
   "execution_count": 39,
   "metadata": {},
   "outputs": [
    {
     "name": "stdout",
     "output_type": "stream",
     "text": [
      "가격변동 ㅎㅎ\n"
     ]
    }
   ],
   "source": [
    "new1.icecream = (400)"
   ]
  },
  {
   "cell_type": "code",
   "execution_count": 42,
   "metadata": {},
   "outputs": [
    {
     "name": "stdout",
     "output_type": "stream",
     "text": [
      "얼음!\n"
     ]
    }
   ],
   "source": [
    "new1.ice()"
   ]
  },
  {
   "cell_type": "code",
   "execution_count": 82,
   "metadata": {},
   "outputs": [
    {
     "name": "stdout",
     "output_type": "stream",
     "text": [
      "이름:  빠삐코\n",
      "가격:  400 원\n",
      "이름:  워드콘\n",
      "가격:  0 원\n"
     ]
    }
   ],
   "source": [
    "new1.icecream\n",
    "new2.icecream"
   ]
  },
  {
   "cell_type": "markdown",
   "metadata": {},
   "source": [
    "# 얕은 복사, 깊은 복사"
   ]
  },
  {
   "cell_type": "code",
   "execution_count": 96,
   "metadata": {
    "scrolled": true
   },
   "outputs": [
    {
     "name": "stdout",
     "output_type": "stream",
     "text": [
      "0x7fce33e8e6e0\n",
      "0x7fce33e8e6e0\n"
     ]
    },
    {
     "data": {
      "text/plain": [
       "[1, 2, 3, 4, 5, 10]"
      ]
     },
     "execution_count": 96,
     "metadata": {},
     "output_type": "execute_result"
    }
   ],
   "source": [
    "list1 = [1, 2, 3, 4, 5]\n",
    "print(hex(id(list1)))\n",
    "list2 = list1\n",
    "print(hex(id(list2)))\n",
    "list2.append(10)\n",
    "list1"
   ]
  },
  {
   "cell_type": "code",
   "execution_count": 97,
   "metadata": {},
   "outputs": [
    {
     "name": "stdout",
     "output_type": "stream",
     "text": [
      "0x7fce48cc9c30\n",
      "0x7fce33e990a0\n"
     ]
    },
    {
     "data": {
      "text/plain": [
       "[1, 2, 3, 4, 5]"
      ]
     },
     "execution_count": 97,
     "metadata": {},
     "output_type": "execute_result"
    }
   ],
   "source": [
    "list1 = [1, 2, 3, 4, 5]\n",
    "print(hex(id(list1)))\n",
    "list2 = list1[:]\n",
    "print(hex(id(list2)))\n",
    "list2.append(10)\n",
    "list1"
   ]
  },
  {
   "cell_type": "markdown",
   "metadata": {},
   "source": [
    "# 상속"
   ]
  },
  {
   "cell_type": "code",
   "execution_count": 31,
   "metadata": {},
   "outputs": [],
   "source": [
    "class Student(Person):\n",
    "    \n",
    "    # 재지정\n",
    "    def __init__(self, age, name, school_name):\n",
    "        super().__init__(age, name)\n",
    "        self.school_name = school_name\n",
    "    \n",
    "    def eat(self):\n",
    "        super().eat()\n",
    "        print(\"학생이 먹습니다.\")"
   ]
  },
  {
   "cell_type": "code",
   "execution_count": 32,
   "metadata": {},
   "outputs": [
    {
     "name": "stdout",
     "output_type": "stream",
     "text": [
      "첫번째학생생성자 실행\n",
      "소멸자 실행\n"
     ]
    }
   ],
   "source": [
    "stu1 = Student(21, '첫번째학생', 'SD Academy')"
   ]
  },
  {
   "cell_type": "code",
   "execution_count": 36,
   "metadata": {},
   "outputs": [
    {
     "name": "stdout",
     "output_type": "stream",
     "text": [
      "21\n",
      "첫번째학생\n",
      "SD Academy\n"
     ]
    }
   ],
   "source": [
    "print(stu1.age)\n",
    "print(stu1.name)\n",
    "print(stu1.school_name)"
   ]
  },
  {
   "cell_type": "code",
   "execution_count": 35,
   "metadata": {},
   "outputs": [
    {
     "name": "stdout",
     "output_type": "stream",
     "text": [
      "77ㅓ억~\n",
      "학생이 먹습니다.\n"
     ]
    }
   ],
   "source": [
    "stu1.eat()"
   ]
  },
  {
   "cell_type": "code",
   "execution_count": 38,
   "metadata": {},
   "outputs": [],
   "source": [
    "class Middle_school_student(Student):\n",
    "    pass"
   ]
  },
  {
   "cell_type": "code",
   "execution_count": 39,
   "metadata": {},
   "outputs": [
    {
     "name": "stdout",
     "output_type": "stream",
     "text": [
      "첫번째 중학생생성자 실행\n",
      "13\n",
      "첫번째 중학생\n",
      "에스디중학교\n"
     ]
    }
   ],
   "source": [
    "stu2 = Middle_school_student(13, \"첫번째 중학생\", \"에스디중학교\")\n",
    "print(stu2.age)\n",
    "print(stu2.name)\n",
    "print(stu2.school_name)"
   ]
  },
  {
   "cell_type": "code",
   "execution_count": 63,
   "metadata": {},
   "outputs": [],
   "source": [
    "class A():\n",
    "    def __init__(self):\n",
    "        print(\"A Class initialized\")\n",
    "\n",
    "class B(A):\n",
    "    def __init__(self):\n",
    "        super().__init__()\n",
    "        self.var = \"B\"\n",
    "        print(\"B Class initialized\")\n",
    "        \n",
    "class C(A):\n",
    "    def __init__(self):\n",
    "        super().__init__()\n",
    "        self.var = \"C\"\n",
    "        print(\"C Class initialized\")\n",
    "        \n",
    "class D(B, C):\n",
    "    def __init__(self):\n",
    "        super().__init__()\n",
    "        print(\"D Class initialized\")"
   ]
  },
  {
   "cell_type": "code",
   "execution_count": 64,
   "metadata": {},
   "outputs": [
    {
     "name": "stdout",
     "output_type": "stream",
     "text": [
      "A Class initialized\n"
     ]
    }
   ],
   "source": [
    "n1=A()"
   ]
  },
  {
   "cell_type": "code",
   "execution_count": 65,
   "metadata": {},
   "outputs": [
    {
     "name": "stdout",
     "output_type": "stream",
     "text": [
      "A Class initialized\n",
      "B Class initialized\n"
     ]
    }
   ],
   "source": [
    "n2=B()"
   ]
  },
  {
   "cell_type": "code",
   "execution_count": 66,
   "metadata": {},
   "outputs": [
    {
     "name": "stdout",
     "output_type": "stream",
     "text": [
      "A Class initialized\n",
      "C Class initialized\n"
     ]
    }
   ],
   "source": [
    "n3=C()"
   ]
  },
  {
   "cell_type": "code",
   "execution_count": 67,
   "metadata": {},
   "outputs": [
    {
     "name": "stdout",
     "output_type": "stream",
     "text": [
      "A Class initialized\n",
      "C Class initialized\n",
      "B Class initialized\n",
      "D Class initialized\n"
     ]
    }
   ],
   "source": [
    "n4=D()"
   ]
  },
  {
   "cell_type": "code",
   "execution_count": 61,
   "metadata": {},
   "outputs": [
    {
     "data": {
      "text/plain": [
       "[__main__.D, __main__.B, __main__.C, __main__.A, object]"
      ]
     },
     "execution_count": 61,
     "metadata": {},
     "output_type": "execute_result"
    }
   ],
   "source": [
    "D.mro()"
   ]
  },
  {
   "cell_type": "code",
   "execution_count": 62,
   "metadata": {},
   "outputs": [
    {
     "data": {
      "text/plain": [
       "[__main__.Middle_school_student, __main__.Student, __main__.Person, object]"
      ]
     },
     "execution_count": 62,
     "metadata": {},
     "output_type": "execute_result"
    }
   ],
   "source": [
    "Middle_school_student.mro()"
   ]
  },
  {
   "cell_type": "code",
   "execution_count": 68,
   "metadata": {},
   "outputs": [
    {
     "data": {
      "text/plain": [
       "'B'"
      ]
     },
     "execution_count": 68,
     "metadata": {},
     "output_type": "execute_result"
    }
   ],
   "source": [
    "n4.var"
   ]
  },
  {
   "cell_type": "code",
   "execution_count": 24,
   "metadata": {},
   "outputs": [],
   "source": [
    "# 1. 비어있는 Human클래스를 정의하세욧\n",
    "\n",
    "class Human:\n",
    "    def __init__(self, name=\"None\", age=0, gender=\"None\"):\n",
    "        self._name=name\n",
    "        self._age=age\n",
    "        self._gender=gender\n",
    "        print(\"아무튼 생성됨\")\n",
    "        \n",
    "    def who(self):\n",
    "        print(self._name)\n",
    "        print(self._age)\n",
    "        print(self._gender)\n",
    "        \n",
    "    @property\n",
    "    def name(self):\n",
    "        return print(\"이름:\", self._name)\n",
    "    @name.setter\n",
    "    def name(self, name):\n",
    "        if name != \"\":\n",
    "            self._name = name\n",
    "        \n",
    "    @property\n",
    "    def age(self):\n",
    "        return print(\"나이:\", self._age)\n",
    "    @age.setter\n",
    "    def age(self, age):\n",
    "        if age > 0:\n",
    "            self._age = age\n",
    "    \n",
    "    @property\n",
    "    def gender(self):\n",
    "        return print(\"성별:\", self._gender)    \n",
    "    @gender.setter\n",
    "    def gender(self, gender):\n",
    "        if gender == \"F\" or gender == \"M\":\n",
    "            self._gender = gender"
   ]
  },
  {
   "cell_type": "code",
   "execution_count": 25,
   "metadata": {},
   "outputs": [
    {
     "name": "stdout",
     "output_type": "stream",
     "text": [
      "아무튼 생성됨\n"
     ]
    }
   ],
   "source": [
    "# 2. Human 클래스의 인스턴스(객체)를 생성하고 이를 obj변수로 바인딩하세욧\n",
    "\n",
    "obj = Human(\"Kim\", 20, \"M\")"
   ]
  },
  {
   "cell_type": "code",
   "execution_count": 26,
   "metadata": {},
   "outputs": [],
   "source": [
    "# 3. Huma 클래스에 생성자를 추가하고 생성자가 실행됐음을 확인할수있는 문자열을 출력 하세욧"
   ]
  },
  {
   "cell_type": "code",
   "execution_count": 27,
   "metadata": {},
   "outputs": [],
   "source": [
    "# 4. 생성자를 이용해(이름, 나이, 성별)을 받을 수 있도록 객체 변수를 정의하세욧"
   ]
  },
  {
   "cell_type": "code",
   "execution_count": 28,
   "metadata": {},
   "outputs": [
    {
     "name": "stdout",
     "output_type": "stream",
     "text": [
      "Kim\n",
      "20\n",
      "M\n"
     ]
    }
   ],
   "source": [
    "# 5. 생성된 객체의 속성(이름, 나이, 성별)을 출력하세욧\n",
    "\n",
    "print(obj._name)\n",
    "print(obj._age)\n",
    "print(obj._gender)"
   ]
  },
  {
   "cell_type": "code",
   "execution_count": 29,
   "metadata": {},
   "outputs": [
    {
     "name": "stdout",
     "output_type": "stream",
     "text": [
      "Kim\n",
      "20\n",
      "M\n"
     ]
    }
   ],
   "source": [
    "# 6. 속성(이름, 나이, 성별)을 출력할 수 있는 who() 메서드를 추가하세욧\n",
    "\n",
    "obj.who()"
   ]
  },
  {
   "cell_type": "code",
   "execution_count": 30,
   "metadata": {
    "scrolled": true
   },
   "outputs": [
    {
     "name": "stdout",
     "output_type": "stream",
     "text": [
      "이름: Kim\n"
     ]
    }
   ],
   "source": [
    "# 7. 속성(이름, 나이, 성별)을 받을수 있는 getter와 setter를 추가하세욧\n",
    "\n",
    "obj.name"
   ]
  },
  {
   "cell_type": "code",
   "execution_count": 31,
   "metadata": {},
   "outputs": [],
   "source": [
    "obj.name = \"Lee\""
   ]
  },
  {
   "cell_type": "code",
   "execution_count": 37,
   "metadata": {},
   "outputs": [],
   "source": [
    "obj.age = 40"
   ]
  },
  {
   "cell_type": "code",
   "execution_count": 38,
   "metadata": {},
   "outputs": [],
   "source": [
    "obj.gender = \"asdf\""
   ]
  },
  {
   "cell_type": "code",
   "execution_count": 39,
   "metadata": {},
   "outputs": [
    {
     "name": "stdout",
     "output_type": "stream",
     "text": [
      "Lee\n",
      "40\n",
      "M\n"
     ]
    }
   ],
   "source": [
    "obj.who()"
   ]
  },
  {
   "cell_type": "code",
   "execution_count": 40,
   "metadata": {},
   "outputs": [],
   "source": [
    "# 8. 다음의 코드는 에러가 발생해욧. 원인을 확인하세욧 ㅎ_ㅎ\n",
    "\n",
    "'''\n",
    "class OMG:\n",
    "    def print():\n",
    "        print(\"Oh My God\")\n",
    "'''\n",
    "\n",
    "class OMG:\n",
    "    def p(self):\n",
    "        print(\"Oh My God\")"
   ]
  },
  {
   "cell_type": "code",
   "execution_count": 41,
   "metadata": {},
   "outputs": [
    {
     "name": "stdout",
     "output_type": "stream",
     "text": [
      "Oh My God\n"
     ]
    }
   ],
   "source": [
    "obj1 = OMG()\n",
    "obj1.p()"
   ]
  },
  {
   "cell_type": "markdown",
   "metadata": {},
   "source": [
    "# 1. Bank_account 클래스 정의하기\n",
    "    은행에서 계좌를 개설하면 기본적으로 계좌번호와 잔액이 설정됩니다. ㅎ_ㅎ\n",
    "    생성자를 이용해서 구현해 봅시다 ㅎ_ㅎ\n",
    "    \n",
    "# 2. 클래수 변수\n",
    "    개설된 계좌의 갯수를 저장하는 클래스 변수 하나를 정의하세요\n",
    "    number_of_bank_account\n",
    "    \n",
    "# 3. 입금 메서드\n",
    "    계좌를 개설한 객체에 입금을 하기 위한 deposit 메서드를 추가하세욧\n",
    "    최소 입금액은 1원이라고 가정 ㅎㅎ\n",
    "    \n",
    "# 4. 출금 메서드\n",
    "    마찬가지로 출금을 하기 위한 withdraw 메서드를 추가하세욧\n",
    "    잔액 이상으로는 출금 불가 ㅎㅎ\n",
    "    \n",
    "# 5. 이자 지급하기\n",
    "    입금횟수가 5회가 될 때 마다 잔고를 기준으로 1%의 이자를 잔고에 추가하도록 해 봅시당 ㅎㅎ\n",
    "\n"
   ]
  },
  {
   "cell_type": "code",
   "execution_count": 239,
   "metadata": {},
   "outputs": [],
   "source": [
    "class Bank_account():\n",
    "    _number_of_bank_account = 0\n",
    "    \n",
    "    def __init__(self, money=0):\n",
    "        Bank_account._number_of_bank_account += 1\n",
    "        self._number = '10-100-' + str((100 + Bank_account._number_of_bank_account))\n",
    "        self._money = money\n",
    "        self._cnt = 0\n",
    "        print(\"{}번째 계좌 개설 축축축\".format(Bank_account._number_of_bank_account))\n",
    "        print(\"계좌 번호:\", self._number)\n",
    "        print(\"잔액:\", self._money)\n",
    "        \n",
    "    def deposit(self, money):\n",
    "        self._money += money\n",
    "        self._cnt += 1\n",
    "        print(\"입금 요청 계좌 번호:\", self._number)\n",
    "        print(\"{}원 입금 완료\".format(money))\n",
    "        if (self._cnt%5) == 0:\n",
    "            print(\"축축축 이자 발생 축축축\")\n",
    "            self._money = int(1.01 * self._money)\n",
    "        print(\"잔액:\", self._money)\n",
    "        print(\"입금 횟수:\", self._cnt)\n",
    "        \n",
    "    def withdraw(self, money):\n",
    "        if money>self._money:\n",
    "            print(\"잔액 부족\")\n",
    "            print(\"잔액:\", self._money)\n",
    "        else:\n",
    "            self._money = self._money - money\n",
    "            print(\"출금 요청 계좌 번호:\", self._number)\n",
    "            print(\"{}원 출금 완료\".format(money))\n",
    "            print(\"잔액:\", self._money)"
   ]
  },
  {
   "cell_type": "code",
   "execution_count": 240,
   "metadata": {},
   "outputs": [
    {
     "name": "stdout",
     "output_type": "stream",
     "text": [
      "1번째 계좌 개설 축축축\n",
      "계좌 번호: 10-100-101\n",
      "잔액: 0\n"
     ]
    }
   ],
   "source": [
    "user1 = Bank_account()"
   ]
  },
  {
   "cell_type": "code",
   "execution_count": 241,
   "metadata": {},
   "outputs": [
    {
     "name": "stdout",
     "output_type": "stream",
     "text": [
      "2번째 계좌 개설 축축축\n",
      "계좌 번호: 10-100-102\n",
      "잔액: 0\n"
     ]
    }
   ],
   "source": [
    "user2 = Bank_account()"
   ]
  },
  {
   "cell_type": "code",
   "execution_count": 242,
   "metadata": {},
   "outputs": [
    {
     "name": "stdout",
     "output_type": "stream",
     "text": [
      "3번째 계좌 개설 축축축\n",
      "계좌 번호: 10-100-103\n",
      "잔액: 1000000000\n"
     ]
    }
   ],
   "source": [
    "user3 = Bank_account(1000000000)"
   ]
  },
  {
   "cell_type": "code",
   "execution_count": 243,
   "metadata": {},
   "outputs": [
    {
     "name": "stdout",
     "output_type": "stream",
     "text": [
      "입금 요청 계좌 번호: 10-100-101\n",
      "500원 입금 완료\n",
      "잔액: 500\n",
      "입금 횟수: 1\n"
     ]
    }
   ],
   "source": [
    "user1.deposit(500)"
   ]
  },
  {
   "cell_type": "code",
   "execution_count": 244,
   "metadata": {},
   "outputs": [
    {
     "name": "stdout",
     "output_type": "stream",
     "text": [
      "입금 요청 계좌 번호: 10-100-101\n",
      "1000원 입금 완료\n",
      "잔액: 1500\n",
      "입금 횟수: 2\n"
     ]
    }
   ],
   "source": [
    "user1.deposit(1000)"
   ]
  },
  {
   "cell_type": "code",
   "execution_count": 245,
   "metadata": {},
   "outputs": [
    {
     "name": "stdout",
     "output_type": "stream",
     "text": [
      "입금 요청 계좌 번호: 10-100-101\n",
      "500원 입금 완료\n",
      "잔액: 2000\n",
      "입금 횟수: 3\n"
     ]
    }
   ],
   "source": [
    "user1.deposit(500)"
   ]
  },
  {
   "cell_type": "code",
   "execution_count": 246,
   "metadata": {},
   "outputs": [
    {
     "name": "stdout",
     "output_type": "stream",
     "text": [
      "입금 요청 계좌 번호: 10-100-101\n",
      "3000원 입금 완료\n",
      "잔액: 5000\n",
      "입금 횟수: 4\n"
     ]
    }
   ],
   "source": [
    "user1.deposit(3000)"
   ]
  },
  {
   "cell_type": "code",
   "execution_count": 247,
   "metadata": {},
   "outputs": [
    {
     "name": "stdout",
     "output_type": "stream",
     "text": [
      "입금 요청 계좌 번호: 10-100-101\n",
      "5000원 입금 완료\n",
      "축축축 이자 발생 축축축\n",
      "잔액: 10100\n",
      "입금 횟수: 5\n"
     ]
    }
   ],
   "source": [
    "user1.deposit(5000)"
   ]
  },
  {
   "cell_type": "code",
   "execution_count": 248,
   "metadata": {},
   "outputs": [
    {
     "name": "stdout",
     "output_type": "stream",
     "text": [
      "잔액 부족\n",
      "잔액: 10100\n"
     ]
    }
   ],
   "source": [
    "user1.withdraw(20000)"
   ]
  },
  {
   "cell_type": "code",
   "execution_count": 249,
   "metadata": {},
   "outputs": [
    {
     "name": "stdout",
     "output_type": "stream",
     "text": [
      "출금 요청 계좌 번호: 10-100-101\n",
      "100원 출금 완료\n",
      "잔액: 10000\n"
     ]
    }
   ],
   "source": [
    "user1.withdraw(100)"
   ]
  },
  {
   "cell_type": "code",
   "execution_count": 38,
   "metadata": {},
   "outputs": [],
   "source": [
    "class BankAccount():\n",
    "    _number_of_bank_account = 0\n",
    "    \n",
    "    def __init__(self, money=0):\n",
    "        BankAccount._number_of_bank_account += 1\n",
    "        self._number = '10-100-' + str(1000 + BankAccount._number_of_bank_account)\n",
    "        print(\"계좌 개설 성공\")\n",
    "        if money == 0:\n",
    "            self._cnt = 0\n",
    "            self._money = money\n",
    "        elif money < 1:\n",
    "            print(\"입금 실패 최소 금액 1원\")\n",
    "            self._cnt = 0\n",
    "            self._money = 0\n",
    "        else:\n",
    "            self._cnt = 1\n",
    "            self._money = money\n",
    "            print(\"입금 횟수: {}번\".format(self._cnt))\n",
    "        BankAccount.state(self)\n",
    "        \n",
    "    def deposit(self, money=0):        \n",
    "        if money < 1:\n",
    "            print(\"입금 실패 최소 금액 1원\")\n",
    "        else:\n",
    "            self._cnt += 1\n",
    "            self._money += money\n",
    "            print(\"입금 금액: {}원\".format(money))\n",
    "            print(\"입금 횟수: {}회\".format(self._cnt))\n",
    "            if (self._cnt % 5) == 0:\n",
    "                print(\"이자 발생 축축축\")\n",
    "                self._money = int(self._money * 1.01)\n",
    "        BankAccount.state(self)\n",
    "        \n",
    "    def withdraw(self, money=0):\n",
    "        if money > self._money:\n",
    "            print(\"출금 실패 잔액 부족\")\n",
    "        else:\n",
    "            self._money -= money\n",
    "        print(\"출금 금액: {}원\".format(money))\n",
    "        BankAccount.state(self)\n",
    "        \n",
    "    def state(self):\n",
    "        print(\"계좌 번호: {}\".format(self._number))\n",
    "        print(\"남은 잔액: {}원\".format(self._money))"
   ]
  },
  {
   "cell_type": "code",
   "execution_count": 37,
   "metadata": {},
   "outputs": [
    {
     "name": "stdout",
     "output_type": "stream",
     "text": [
      "계좌 개설 성공\n",
      "입금 실패 최소 금액 1원\n",
      "계좌 번호: 10-100-1002\n",
      "남은 잔액: 0원\n"
     ]
    }
   ],
   "source": [
    "user1 = BankAccount(-1)"
   ]
  },
  {
   "cell_type": "code",
   "execution_count": 30,
   "metadata": {},
   "outputs": [
    {
     "name": "stdout",
     "output_type": "stream",
     "text": [
      "계좌 번호: 10-100-1002\n",
      "남은 잔액: 100원\n"
     ]
    }
   ],
   "source": [
    "user1.state()"
   ]
  },
  {
   "cell_type": "code",
   "execution_count": 31,
   "metadata": {},
   "outputs": [
    {
     "name": "stdout",
     "output_type": "stream",
     "text": [
      "출금 금액: 100원\n",
      "계좌 번호: 10-100-1002\n",
      "남은 잔액: 0원\n"
     ]
    }
   ],
   "source": [
    "user1.withdraw(100)"
   ]
  },
  {
   "cell_type": "code",
   "execution_count": 173,
   "metadata": {},
   "outputs": [
    {
     "name": "stdout",
     "output_type": "stream",
     "text": [
      "입금 금액: 100원\n",
      "입금 횟수: 135번\n",
      "이자 발생 축축축\n",
      "계좌 번호: 10-100-1002\n",
      "남은 잔액: 15554원\n"
     ]
    }
   ],
   "source": [
    "user1.deposit(100)"
   ]
  },
  {
   "cell_type": "code",
   "execution_count": null,
   "metadata": {},
   "outputs": [],
   "source": []
  }
 ],
 "metadata": {
  "kernelspec": {
   "display_name": "Python 3",
   "language": "python",
   "name": "python3"
  },
  "language_info": {
   "codemirror_mode": {
    "name": "ipython",
    "version": 3
   },
   "file_extension": ".py",
   "mimetype": "text/x-python",
   "name": "python",
   "nbconvert_exporter": "python",
   "pygments_lexer": "ipython3",
   "version": "3.7.4"
  }
 },
 "nbformat": 4,
 "nbformat_minor": 2
}
