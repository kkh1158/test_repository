{
 "cells": [
  {
   "cell_type": "markdown",
   "metadata": {},
   "source": [
    "# 재귀이이이\n",
    "\n",
    "-하노이탑"
   ]
  },
  {
   "cell_type": "markdown",
   "metadata": {},
   "source": [
    "어느 한 컴퓨터공학과 학생이 유명한 교수님을 찾아가 물었다.\n",
    "\"재귀함수가 뭔가요?\"\n",
    "\"잘 들어보게. 옛날옛날 한 산 꼭대기에 이세상 모든 지식을 통달한 선인이 있었어.\n",
    "마을 사람들은 모두 그 선인에게 수많은 질문을 했고, 모두 지혜롭게 대답해 주었지.\n",
    "그의 답은 대부분 옳았다고 하네. 그런데 어느 날, 그 선인에게 한 선비가 찾아와서 물었어.\"\n",
    "____\"재귀함수가 뭔가요?\"\n",
    "____\"잘 들어보게. 옛날옛날 한 산 꼭대기에 이세상 모든 지식을 통달한 선인이 있었어.\n",
    "____마을 사람들은 모두 그 선인에게 수많은 질문을 했고, 모두 지혜롭게 대답해 주었지.\n",
    "____그의 답은 대부분 옳았다고 하네. 그런데 어느 날, 그 선인에게 한 선비가 찾아와서 물었어.\"\n",
    "________\"재귀함수가 뭔가요?\"\n",
    "________\"재귀함수는 자기 자신을 호출하는 함수라네\"\n",
    "________라고 답변하였지.\n",
    "____라고 답변하였지.\n",
    "라고 답변하였지."
   ]
  },
  {
   "cell_type": "code",
   "execution_count": 20,
   "metadata": {},
   "outputs": [
    {
     "name": "stdout",
     "output_type": "stream",
     "text": [
      "4 함수 시작\n",
      "3 함수 시작\n",
      "2 함수 시작\n",
      "1 함수 시작\n",
      "1 조건 만족\n",
      "1 재귀 종료\n",
      "2 함수 종료\n",
      "3 함수 종료\n",
      "4 함수 종료\n"
     ]
    }
   ],
   "source": [
    "\n",
    "\n",
    "def func(n):\n",
    "    print(n, \"함수 시작\")\n",
    "    if n <= 1:\n",
    "        print(n, \"조건 만족\")\n",
    "        return print(n, \"재귀 종료\")\n",
    "    \n",
    "    func(n-1)\n",
    "    return print(n, \"함수 종료\")\n",
    "\n",
    "func(4)"
   ]
  },
  {
   "cell_type": "code",
   "execution_count": 1,
   "metadata": {},
   "outputs": [
    {
     "name": "stdout",
     "output_type": "stream",
     "text": [
      "55\n"
     ]
    }
   ],
   "source": [
    "# 1부터 n까지의 합을 구하는 루프(상향식)\n",
    "\n",
    "n = 10\n",
    "tot = 0\n",
    "\n",
    "while n:\n",
    "    tot += n\n",
    "    n -= 1\n",
    "\n",
    "print(tot)"
   ]
  },
  {
   "cell_type": "code",
   "execution_count": 25,
   "metadata": {},
   "outputs": [
    {
     "name": "stdout",
     "output_type": "stream",
     "text": [
      "call 10\n",
      "call 9\n",
      "call 8\n",
      "call 7\n",
      "call 6\n",
      "call 5\n",
      "call 4\n",
      "call 3\n",
      "call 2\n",
      "call 1\n",
      "call 0\n",
      "return 0\n",
      "return 0 + 1\n",
      "return 1 + 2\n",
      "return 3 + 3\n",
      "return 6 + 4\n",
      "return 10 + 5\n",
      "return 15 + 6\n",
      "return 21 + 7\n",
      "return 28 + 8\n",
      "return 36 + 9\n",
      "return 45 + 10\n",
      "55\n"
     ]
    }
   ],
   "source": [
    "# 1부터 n까지의 합을 구하는 재귀(하향식)\n",
    "\n",
    "def gettot(n):\n",
    "    print(\"call\", n)\n",
    "    if n != 0:\n",
    "        ret = gettot(n-1)\n",
    "        print(\"return {} + {}\".format(ret, n))\n",
    "        return ret + n\n",
    "    else:\n",
    "        print(\"return\", n)\n",
    "        return n\n",
    "    \n",
    "print(gettot(10))"
   ]
  },
  {
   "cell_type": "markdown",
   "metadata": {},
   "source": [
    "# 재귀 연습문제(n ** m)\n",
    "- 임의의 정수 n, m이 주어졌을때 n의m승을 구하세욧 ㅎㅎ\n",
    "- 물론 파이썬에서는 ** 연산자를 통해 쉽게 가능하지만 연습하세욧 ㅎㅎ"
   ]
  },
  {
   "cell_type": "code",
   "execution_count": 86,
   "metadata": {},
   "outputs": [
    {
     "name": "stdout",
     "output_type": "stream",
     "text": [
      "n값 입력: 2\n",
      "m값 입력: 10\n",
      "1024\n"
     ]
    }
   ],
   "source": [
    "# 루프로~\n",
    "\n",
    "n = int(input(\"n값 입력: \"))\n",
    "m = int(input(\"m값 입력: \"))\n",
    "mul = 1\n",
    "\n",
    "while m >= 1:\n",
    "    mul *= n\n",
    "    m -= 1\n",
    "\n",
    "#for _ in range(m):\n",
    "#    mul *= n\n",
    "    \n",
    "print(mul)"
   ]
  },
  {
   "cell_type": "code",
   "execution_count": 91,
   "metadata": {},
   "outputs": [
    {
     "name": "stdout",
     "output_type": "stream",
     "text": [
      "n값 입력: 2\n",
      "m값 입력: 0\n",
      "1\n"
     ]
    }
   ],
   "source": [
    "# 꼬리재귀로~\n",
    "\n",
    "n = int(input(\"n값 입력: \"))\n",
    "m = int(input(\"m값 입력: \"))\n",
    "\n",
    "def getmul_(n_, m_, mul_):\n",
    "    if m_ == 0:\n",
    "        return mul_\n",
    "    else:\n",
    "        return getmul_(n_, m_ - 1, mul_ * n)\n",
    "    \n",
    "print(getmul_(n, m, 1))"
   ]
  },
  {
   "cell_type": "code",
   "execution_count": 55,
   "metadata": {
    "scrolled": true
   },
   "outputs": [
    {
     "name": "stdout",
     "output_type": "stream",
     "text": [
      "n값 입력: 2\n",
      "m값 입력: 10\n"
     ]
    },
    {
     "data": {
      "text/plain": [
       "1024"
      ]
     },
     "execution_count": 55,
     "metadata": {},
     "output_type": "execute_result"
    }
   ],
   "source": [
    "# 재귀로~\n",
    "\n",
    "n = int(input(\"n값 입력: \"))\n",
    "m = int(input(\"m값 입력: \"))\n",
    "\n",
    "def getmul(n, m):\n",
    "    if m == 0:\n",
    "        return 1\n",
    "    else:\n",
    "        return n * getmul(n, m-1)\n",
    "\n",
    "getmul(n, m)"
   ]
  },
  {
   "cell_type": "code",
   "execution_count": 85,
   "metadata": {},
   "outputs": [
    {
     "name": "stdout",
     "output_type": "stream",
     "text": [
      "10\n",
      "3628800\n"
     ]
    }
   ],
   "source": [
    "n = int(input())\n",
    "\n",
    "def pactorial(n):\n",
    "    if n == 1:\n",
    "        return 1\n",
    "    elif n == 0:\n",
    "        return 1\n",
    "    else:\n",
    "        return n * pactorial(n-1)\n",
    "    \n",
    "print(pactorial(n))"
   ]
  },
  {
   "cell_type": "code",
   "execution_count": 1,
   "metadata": {},
   "outputs": [
    {
     "name": "stdout",
     "output_type": "stream",
     "text": [
      "10\n",
      "55\n"
     ]
    }
   ],
   "source": [
    "n = int(input())\n",
    "\n",
    "def fibo(n):\n",
    "    if n == 0:\n",
    "        return 0\n",
    "    elif n == 1:\n",
    "        return 1\n",
    "    else:\n",
    "        return fibo(n-1) + fibo(n-2)\n",
    "    \n",
    "print(fibo(n))"
   ]
  },
  {
   "cell_type": "markdown",
   "metadata": {},
   "source": [
    "# 러시아농부의 계산법? 놀랍"
   ]
  },
  {
   "cell_type": "code",
   "execution_count": 71,
   "metadata": {
    "scrolled": false
   },
   "outputs": [
    {
     "name": "stdout",
     "output_type": "stream",
     "text": [
      "123 12\n",
      "61 24\n",
      "30 48\n",
      "15 96\n",
      "7 192\n",
      "3 384\n",
      "1 768\n",
      "1476\n"
     ]
    }
   ],
   "source": [
    "# 루프로~\n",
    "\n",
    "n, m = 123, 12\n",
    "tot = 0\n",
    "\n",
    "while n!=0:\n",
    "    if n%2: #홀수면\n",
    "        tot += m\n",
    "    print(n, m)\n",
    "    \n",
    "    n //= 2\n",
    "    m *= 2\n",
    "    \n",
    "print(tot)"
   ]
  },
  {
   "cell_type": "code",
   "execution_count": 72,
   "metadata": {},
   "outputs": [
    {
     "name": "stdout",
     "output_type": "stream",
     "text": [
      "123 12\n",
      "61 24\n",
      "30 48\n",
      "15 96\n",
      "7 192\n",
      "3 384\n",
      "1 768\n"
     ]
    },
    {
     "data": {
      "text/plain": [
       "1476"
      ]
     },
     "execution_count": 72,
     "metadata": {},
     "output_type": "execute_result"
    }
   ],
   "source": [
    "# 꼬리재귀로~\n",
    "\n",
    "def magic_(n, m, tot):\n",
    "    if n!=0 and n%2: # 홀수면\n",
    "        print(n, m)\n",
    "        return magic_(n//2, m*2, tot+m)\n",
    "    elif n!=0 and not n%2: # 짝수면\n",
    "        print(n, m)\n",
    "        return magic_(n//2, m*2, tot)\n",
    "    else:\n",
    "        return tot\n",
    "    \n",
    "magic_(123, 12, 0)"
   ]
  },
  {
   "cell_type": "code",
   "execution_count": 73,
   "metadata": {},
   "outputs": [
    {
     "name": "stdout",
     "output_type": "stream",
     "text": [
      "123 12\n",
      "61 24\n",
      "30 48\n",
      "15 96\n",
      "7 192\n",
      "3 384\n",
      "1 768\n"
     ]
    },
    {
     "data": {
      "text/plain": [
       "1476"
      ]
     },
     "execution_count": 73,
     "metadata": {},
     "output_type": "execute_result"
    }
   ],
   "source": [
    "# 재귀로~~\n",
    "\n",
    "def magic(n, m):\n",
    "    if n!=0 and n%2:\n",
    "        print(n, m)\n",
    "        return m + magic(n//2, m*2)\n",
    "    elif n!=0 and not n%2:\n",
    "        print(n, m)\n",
    "        return magic(n//2, m*2)\n",
    "    else:\n",
    "        return 0\n",
    "    \n",
    "magic(123, 12)"
   ]
  },
  {
   "cell_type": "markdown",
   "metadata": {},
   "source": [
    "# 팩토리얼도 세단계로~"
   ]
  },
  {
   "cell_type": "code",
   "execution_count": 24,
   "metadata": {},
   "outputs": [
    {
     "name": "stdout",
     "output_type": "stream",
     "text": [
      "24\n"
     ]
    }
   ],
   "source": [
    "# 루프로~\n",
    "\n",
    "n = 4\n",
    "factorial = 1\n",
    "\n",
    "while n>=1:\n",
    "    factorial *= n\n",
    "    n -= 1\n",
    "\n",
    "print(factorial)"
   ]
  },
  {
   "cell_type": "code",
   "execution_count": 25,
   "metadata": {},
   "outputs": [
    {
     "data": {
      "text/plain": [
       "24"
      ]
     },
     "execution_count": 25,
     "metadata": {},
     "output_type": "execute_result"
    }
   ],
   "source": [
    "# 꼬리재귀로~\n",
    "\n",
    "def factorial_(n, fac):\n",
    "    if n>=1:\n",
    "        return factorial_(n-1, fac*n)\n",
    "    else:\n",
    "        return fac\n",
    "        \n",
    "factorial_(4, 1)"
   ]
  },
  {
   "cell_type": "code",
   "execution_count": 28,
   "metadata": {},
   "outputs": [
    {
     "name": "stdout",
     "output_type": "stream",
     "text": [
      "10\n",
      "3628800\n"
     ]
    }
   ],
   "source": [
    "# 재귀로~\n",
    "\n",
    "n = int(input())\n",
    "\n",
    "def factorial(n):\n",
    "    if n>=1:\n",
    "        return n * factorial(n-1)\n",
    "    else:\n",
    "        return 1\n",
    "\n",
    "print(factorial(n))"
   ]
  },
  {
   "cell_type": "markdown",
   "metadata": {},
   "source": [
    "# 피보나치수도 세 단계로~\n",
    "- f0 = 0\n",
    "- f1 = 1\n",
    "- f2 = f1 + f0\n",
    "- ...\n",
    "- fn = fn-1 + fn-2\n",
    "- fn+1 = fn + fn-1"
   ]
  },
  {
   "cell_type": "code",
   "execution_count": 7,
   "metadata": {},
   "outputs": [
    {
     "name": "stdout",
     "output_type": "stream",
     "text": [
      "12\n",
      "144\n"
     ]
    }
   ],
   "source": [
    "# 와일로~\n",
    "n = int(input())\n",
    "\n",
    "fibo_2 = 0\n",
    "fibo_1 = 1\n",
    "fibo = 0\n",
    "\n",
    "if n<=1:\n",
    "    fibo=n\n",
    "\n",
    "while n > 1:\n",
    "    fibo = fibo_2 + fibo_1\n",
    "    fibo_2 = fibo_1\n",
    "    fibo_1 = fibo\n",
    "    n -= 1\n",
    "    \n",
    "print(fibo)"
   ]
  },
  {
   "cell_type": "markdown",
   "metadata": {},
   "source": [
    "|<span style=\"color:pink\">제목---------------</span>|<span style=\"color:red\">내용--------------------</span>|비고------|\n",
    "|---------------------|---:|:---|\n",
    "|테스트|*강조*|**강조**|"
   ]
  },
  {
   "cell_type": "markdown",
   "metadata": {},
   "source": [
    "# 마크다운에 표를 그려보자아아아아\n",
    "\n",
    "###### 표를 왼쪽으로 붙이고싶은데\n",
    "\n",
    "|마크다운|테스트|짧게|짧게|짧게|\n",
    "|-|-|-|-|-|\n",
    "|*기울음*|**굵음**|난길다아아아아아아아아~|||"
   ]
  },
  {
   "cell_type": "code",
   "execution_count": 2,
   "metadata": {},
   "outputs": [
    {
     "name": "stdout",
     "output_type": "stream",
     "text": [
      "55\n"
     ]
    }
   ],
   "source": [
    "# 와일로~(변수 두개~)\n",
    "\n",
    "n = 10\n",
    "prev2 = 1\n",
    "prev1 = 0\n",
    "\n",
    "while n>0:\n",
    "    prev2, prev1 = prev1, prev1+prev2\n",
    "    n -= 1\n",
    "    \n",
    "print(prev1)"
   ]
  },
  {
   "cell_type": "code",
   "execution_count": 3,
   "metadata": {},
   "outputs": [
    {
     "name": "stdout",
     "output_type": "stream",
     "text": [
      "55\n"
     ]
    }
   ],
   "source": [
    "# 꼬리재귀로~\n",
    "\n",
    "def fibo_(n, prev2, prev1):\n",
    "    if n==0: return prev2\n",
    "    elif n==1: return prev1\n",
    "    else: return fibo_(n-1, prev1, prev1+prev2)\n",
    "    \n",
    "print(fibo_(10, 0, 1))"
   ]
  },
  {
   "cell_type": "code",
   "execution_count": 5,
   "metadata": {},
   "outputs": [
    {
     "name": "stdout",
     "output_type": "stream",
     "text": [
      "55\n"
     ]
    }
   ],
   "source": [
    "# 재귀로~\n",
    "\n",
    "def fibo(n):\n",
    "    if n==0: return 0\n",
    "    elif n==1: return 1\n",
    "    else: return fibo(n-1) + fibo(n-2)\n",
    "\n",
    "print(fibo(10))"
   ]
  },
  {
   "cell_type": "code",
   "execution_count": null,
   "metadata": {},
   "outputs": [],
   "source": []
  }
 ],
 "metadata": {
  "kernelspec": {
   "display_name": "Python 3",
   "language": "python",
   "name": "python3"
  },
  "language_info": {
   "codemirror_mode": {
    "name": "ipython",
    "version": 3
   },
   "file_extension": ".py",
   "mimetype": "text/x-python",
   "name": "python",
   "nbconvert_exporter": "python",
   "pygments_lexer": "ipython3",
   "version": "3.7.4"
  }
 },
 "nbformat": 4,
 "nbformat_minor": 2
}
