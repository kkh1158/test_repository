{
 "cells": [
  {
   "cell_type": "markdown",
   "metadata": {},
   "source": [
    "# range"
   ]
  },
  {
   "cell_type": "code",
   "execution_count": 22,
   "metadata": {},
   "outputs": [
    {
     "data": {
      "text/plain": [
       "[0, 1, 2, 3, 4, 5, 6, 7, 8, 9]"
      ]
     },
     "execution_count": 22,
     "metadata": {},
     "output_type": "execute_result"
    }
   ],
   "source": [
    "list(range(10))"
   ]
  },
  {
   "cell_type": "code",
   "execution_count": 23,
   "metadata": {},
   "outputs": [
    {
     "data": {
      "text/plain": [
       "[0, 5, 10, 15, 20, 25]"
      ]
     },
     "execution_count": 23,
     "metadata": {},
     "output_type": "execute_result"
    }
   ],
   "source": [
    "list(range(0, 30, 5))"
   ]
  },
  {
   "cell_type": "code",
   "execution_count": 24,
   "metadata": {},
   "outputs": [
    {
     "data": {
      "text/plain": [
       "[0, -1, -2, -3, -4, -5, -6, -7, -8, -9]"
      ]
     },
     "execution_count": 24,
     "metadata": {},
     "output_type": "execute_result"
    }
   ],
   "source": [
    "list(range(0, -10, -1))"
   ]
  },
  {
   "cell_type": "code",
   "execution_count": 25,
   "metadata": {
    "scrolled": false
   },
   "outputs": [
    {
     "data": {
      "text/plain": [
       "[-9, -8, -7, -6, -5, -4, -3, -2, -1, 0]"
      ]
     },
     "execution_count": 25,
     "metadata": {},
     "output_type": "execute_result"
    }
   ],
   "source": [
    "list(range(-9, 1, 1))"
   ]
  },
  {
   "cell_type": "markdown",
   "metadata": {},
   "source": [
    "# append"
   ]
  },
  {
   "cell_type": "code",
   "execution_count": 26,
   "metadata": {
    "scrolled": true
   },
   "outputs": [
    {
     "name": "stdout",
     "output_type": "stream",
     "text": [
      "[0, 1]\n",
      "[0, 1, 2]\n"
     ]
    }
   ],
   "source": [
    "a = [0]\n",
    "\n",
    "a.append(1)\n",
    "print(a)\n",
    "\n",
    "a.append(2)\n",
    "print(a)"
   ]
  },
  {
   "cell_type": "markdown",
   "metadata": {},
   "source": [
    "# pop"
   ]
  },
  {
   "cell_type": "code",
   "execution_count": 41,
   "metadata": {},
   "outputs": [
    {
     "name": "stdout",
     "output_type": "stream",
     "text": [
      "[10, 11, 12, 13]\n",
      "14\n",
      "[10, 11, 12]\n",
      "13\n",
      "[10, 12]\n",
      "11\n"
     ]
    }
   ],
   "source": [
    "a = [10, 11, 12, 13, 14]\n",
    "\n",
    "b=a.pop(-1)\n",
    "print(a)\n",
    "print(b)\n",
    "\n",
    "b=a.pop(-1)\n",
    "print(a)\n",
    "print(b)\n",
    "\n",
    "b=a.pop(1)\n",
    "print(a)\n",
    "print(b)"
   ]
  },
  {
   "cell_type": "markdown",
   "metadata": {},
   "source": [
    "# del"
   ]
  },
  {
   "cell_type": "code",
   "execution_count": 37,
   "metadata": {},
   "outputs": [
    {
     "name": "stdout",
     "output_type": "stream",
     "text": [
      "[10, 12]\n"
     ]
    }
   ],
   "source": [
    "a = [10,11,12]\n",
    "\n",
    "del a[1]\n",
    "print(a)"
   ]
  },
  {
   "cell_type": "markdown",
   "metadata": {},
   "source": [
    "# 이중리스트 ㅎㅎ"
   ]
  },
  {
   "cell_type": "code",
   "execution_count": 1,
   "metadata": {},
   "outputs": [],
   "source": [
    "N = 3"
   ]
  },
  {
   "cell_type": "code",
   "execution_count": 2,
   "metadata": {},
   "outputs": [
    {
     "name": "stdout",
     "output_type": "stream",
     "text": [
      "[[0, 1, 2], [1, 2, 3], [2, 3, 4]]\n"
     ]
    }
   ],
   "source": [
    "a = []\n",
    "\n",
    "for i in range(N):\n",
    "    line = []\n",
    "    for j in range(N):\n",
    "        line.append(i+j)\n",
    "    a.append(line)\n",
    "    \n",
    "print(a)"
   ]
  },
  {
   "cell_type": "code",
   "execution_count": 3,
   "metadata": {
    "scrolled": true
   },
   "outputs": [
    {
     "name": "stdout",
     "output_type": "stream",
     "text": [
      "1 3 4\n",
      "5 6 7\n",
      "8 9 0\n",
      "[['1', '3', '4'], ['5', '6', '7'], ['8', '9', '0']]\n"
     ]
    }
   ],
   "source": [
    "a = []\n",
    "\n",
    "for i in range(N):\n",
    "    line = input().split(\" \")\n",
    "    a.append(line)\n",
    "    \n",
    "print(a)"
   ]
  },
  {
   "cell_type": "code",
   "execution_count": 4,
   "metadata": {
    "scrolled": true
   },
   "outputs": [
    {
     "name": "stdout",
     "output_type": "stream",
     "text": [
      "1 3 4 \n",
      "5 6 7 \n",
      "8 9 0 \n"
     ]
    }
   ],
   "source": [
    "for i in range(N):\n",
    "    for j in range(N):\n",
    "        print(a[i][j], end=\" \")\n",
    "    print()"
   ]
  },
  {
   "cell_type": "code",
   "execution_count": 16,
   "metadata": {},
   "outputs": [
    {
     "name": "stdout",
     "output_type": "stream",
     "text": [
      "* * * * * * * * * * \n",
      "* * * * * * * * * * \n",
      "* * * * * * * * * * \n",
      "* * * * * * * * * * \n",
      "* * * * * * * * * * \n",
      "* * * * * * * * * * \n",
      "* * * * * * * * * * \n",
      "* * * * * * * * * * \n",
      "* * * * * * * * * * \n",
      "* * * * * * * * * * \n"
     ]
    }
   ],
   "source": []
  },
  {
   "cell_type": "code",
   "execution_count": 8,
   "metadata": {},
   "outputs": [
    {
     "name": "stdout",
     "output_type": "stream",
     "text": [
      " 0   1   2   3   4   5   6   7   8  \n",
      " 1       3   4       6   7       9  \n",
      " 2   3   4   5   6   7   8   9  10  \n",
      " 3   4   5               9  10  11  \n",
      " 4       6              10      12  \n",
      " 5   6   7              11  12  13  \n",
      " 6   7   8   9  10  11  12  13  14  \n",
      " 7       9  10      12  13      15  \n",
      " 8   9  10  11  12  13  14  15  16  \n"
     ]
    }
   ],
   "source": []
  },
  {
   "cell_type": "markdown",
   "metadata": {},
   "source": [
    "# 문자열 -> 튜플 -> 리스트 -> 문자열"
   ]
  },
  {
   "cell_type": "code",
   "execution_count": 2,
   "metadata": {},
   "outputs": [
    {
     "name": "stdout",
     "output_type": "stream",
     "text": [
      "Hello World\n",
      "('H', 'e', 'l', 'l', 'o', ' ', 'W', 'o', 'r', 'l', 'd')\n",
      "['H', 'e', 'l', 'l', 'o', ' ', 'W', 'o', 'r', 'l', 'd']\n",
      "Hello World\n"
     ]
    }
   ],
   "source": [
    "a = \"Hello World\"\n",
    "print(a)\n",
    "b = tuple(a)\n",
    "print(b)\n",
    "c = list(b)\n",
    "print(c)\n",
    "d = ''.join(c)\n",
    "print(d)"
   ]
  },
  {
   "cell_type": "markdown",
   "metadata": {},
   "source": [
    "# 리스트로 스택, 큐"
   ]
  },
  {
   "cell_type": "code",
   "execution_count": 67,
   "metadata": {
    "scrolled": true
   },
   "outputs": [
    {
     "name": "stdout",
     "output_type": "stream",
     "text": [
      "[]\n",
      "[0]\n",
      "[0, 1]\n",
      "[0, 1, 2]\n",
      "[0, 1]\n",
      "[0]\n",
      "\n",
      "[]\n",
      "[0]\n",
      "[0, 1]\n",
      "[0, 1, 2]\n",
      "[1, 2]\n",
      "[2]\n",
      "[]\n"
     ]
    }
   ],
   "source": [
    "stack = []\n",
    "queue = []\n",
    "\n",
    "print(stack)\n",
    "stack.append(0)\n",
    "print(stack)\n",
    "stack.append(1)\n",
    "print(stack)\n",
    "stack.append(2)\n",
    "print(stack)\n",
    "stack.pop()\n",
    "print(stack)\n",
    "stack.pop()\n",
    "print(stack)\n",
    "\n",
    "print()\n",
    "\n",
    "print(queue)\n",
    "queue.append(0)\n",
    "print(queue)\n",
    "queue.append(1)\n",
    "print(queue)\n",
    "queue.append(2)\n",
    "print(queue)\n",
    "queue.pop(0)\n",
    "print(queue)\n",
    "queue.pop(0)\n",
    "print(queue)\n",
    "queue.pop(0)\n",
    "print(queue)"
   ]
  },
  {
   "cell_type": "markdown",
   "metadata": {},
   "source": [
    "# 리스트를 이용하여 인덱싱으로 별을 찍어보자아아아"
   ]
  },
  {
   "cell_type": "code",
   "execution_count": 109,
   "metadata": {},
   "outputs": [
    {
     "name": "stdout",
     "output_type": "stream",
     "text": [
      "[['1,2,3,4,5'], [1, 2, 3, 4, 5]]\n",
      "['1,2,3,4,5']\n",
      "[1, 2, 3, 4, 5]\n"
     ]
    }
   ],
   "source": [
    "# 이차원리스트 만들기\n",
    "\n",
    "l = [[\"1,2,3,4,5\"]]\n",
    "l.append([1,2,3,4,5])\n",
    "\n",
    "print(l)\n",
    "\n",
    "for i in l:\n",
    "    print(i)"
   ]
  },
  {
   "cell_type": "code",
   "execution_count": 48,
   "metadata": {},
   "outputs": [
    {
     "name": "stdout",
     "output_type": "stream",
     "text": [
      "[[1, 2, 3, 4, 5], [1, 2, 3, 4, 5], [1, 2, 3, 4, 5], [1, 2, 3, 4, 5], [1, 2, 3, 4, 5]]\n",
      "[1, 2, 3, 4, 5]\n",
      "[1, 2, 3, 4, 5]\n",
      "[1, 2, 3, 4, 5]\n",
      "[1, 2, 3, 4, 5]\n",
      "[1, 2, 3, 4, 5]\n"
     ]
    }
   ],
   "source": [
    "l = [[x for x in range(1, 5+1)] for x in range(1, 5+1)]\n",
    "\n",
    "print(l)\n",
    "\n",
    "for i in l:\n",
    "    print(i)"
   ]
  },
  {
   "cell_type": "markdown",
   "metadata": {},
   "source": [
    "# 별찍기 1\n",
    "\n",
    "    *\n",
    "    **\n",
    "    ***\n",
    "    ****\n",
    "    *****"
   ]
  },
  {
   "cell_type": "code",
   "execution_count": 70,
   "metadata": {},
   "outputs": [
    {
     "name": "stdout",
     "output_type": "stream",
     "text": [
      "5\n",
      "*\n",
      "**\n",
      "***\n",
      "****\n",
      "*****\n"
     ]
    }
   ],
   "source": [
    "n = int(input())\n",
    "star_list = [[\"\" for i in range(n)] for _ in range(n)]\n",
    "\n",
    "#입력\n",
    "for i in range(n):\n",
    "    for j in range(n):\n",
    "        if i>=j:\n",
    "            star_list[i][j] = \"*\"\n",
    "        \n",
    "#출력            \n",
    "for i in star_list:\n",
    "    print(''.join(i))"
   ]
  },
  {
   "cell_type": "code",
   "execution_count": 59,
   "metadata": {},
   "outputs": [
    {
     "name": "stdout",
     "output_type": "stream",
     "text": [
      "5\n",
      "*\n",
      "**\n",
      "***\n",
      "****\n",
      "*****\n"
     ]
    }
   ],
   "source": [
    "n = int(input())\n",
    "star_list = [[\"\" for i in range(n)] for _ in range(n)]\n",
    "\n",
    "#입력\n",
    "for i in range(n):\n",
    "    for j in range(i+1):\n",
    "        star_list[i][j] = \"*\"\n",
    "        \n",
    "#출력            \n",
    "for i in star_list:\n",
    "    print(''.join(i))"
   ]
  },
  {
   "cell_type": "markdown",
   "metadata": {},
   "source": [
    "# 별찍기 2\n",
    "        *\n",
    "       **\n",
    "      ***\n",
    "     ****\n",
    "    *****"
   ]
  },
  {
   "cell_type": "code",
   "execution_count": 60,
   "metadata": {},
   "outputs": [
    {
     "name": "stdout",
     "output_type": "stream",
     "text": [
      "5\n",
      "    *\n",
      "   **\n",
      "  ***\n",
      " ****\n",
      "*****\n"
     ]
    }
   ],
   "source": [
    "n = int(input())\n",
    "star_list = [[\" \" for i in range(n)] for _ in range(n)]\n",
    "\n",
    "#입력\n",
    "for i in range(n):\n",
    "    for j in range(n):\n",
    "        if i+j>=n-1:\n",
    "            star_list[i][j] = \"*\"\n",
    "        \n",
    "#출력            \n",
    "for i in star_list:\n",
    "    print(''.join(i))"
   ]
  },
  {
   "cell_type": "code",
   "execution_count": 81,
   "metadata": {},
   "outputs": [
    {
     "name": "stdout",
     "output_type": "stream",
     "text": [
      "5\n",
      "    *\n",
      "   **\n",
      "  ***\n",
      " ****\n",
      "*****\n"
     ]
    }
   ],
   "source": [
    "n = int(input())\n",
    "star_list = [[\" \" for i in range(n)] for _ in range(n)]\n",
    "\n",
    "#입력\n",
    "for i in range(n):\n",
    "    for j in range(n-1, n-2-i, -1): # 양수 인덱스\n",
    "    #for j in range(-1,-i-2,-1): # 음수 인덱스\n",
    "        star_list[i][j] = \"*\"\n",
    "        \n",
    "#출력            \n",
    "for i in star_list:\n",
    "    print(''.join(i))"
   ]
  },
  {
   "cell_type": "markdown",
   "metadata": {},
   "source": [
    "# 별찍기 3\n",
    "\n",
    "    *****\n",
    "    ****\n",
    "    ***\n",
    "    **\n",
    "    *"
   ]
  },
  {
   "cell_type": "code",
   "execution_count": 71,
   "metadata": {},
   "outputs": [
    {
     "name": "stdout",
     "output_type": "stream",
     "text": [
      "5\n",
      "*****\n",
      "****\n",
      "***\n",
      "**\n",
      "*\n"
     ]
    }
   ],
   "source": [
    "n = int(input())\n",
    "star_list = [[\"\" for i in range(n)] for _ in range(n)]\n",
    "\n",
    "#입력\n",
    "for i in range(n):\n",
    "    for j in range(n):\n",
    "        if i<=j:\n",
    "            star_list[i][j] = \"*\"\n",
    "        \n",
    "#출력            \n",
    "for i in star_list:\n",
    "    print(''.join(i))"
   ]
  },
  {
   "cell_type": "code",
   "execution_count": 72,
   "metadata": {},
   "outputs": [
    {
     "name": "stdout",
     "output_type": "stream",
     "text": [
      "5\n",
      "*****\n",
      "****\n",
      "***\n",
      "**\n",
      "*\n"
     ]
    }
   ],
   "source": [
    "n = int(input())\n",
    "star_list = [[\"\" for i in range(n)] for _ in range(n)]\n",
    "\n",
    "#입력\n",
    "for i in range(n):\n",
    "    for j in range(n-i):\n",
    "        star_list[i][j] = \"*\"\n",
    "        \n",
    "#출력            \n",
    "for i in star_list:\n",
    "    print(''.join(i))"
   ]
  },
  {
   "cell_type": "markdown",
   "metadata": {},
   "source": [
    "# 별찍기 4\n",
    "\n",
    "    *****\n",
    "     ****\n",
    "      ***\n",
    "       **\n",
    "        *"
   ]
  },
  {
   "cell_type": "code",
   "execution_count": 82,
   "metadata": {},
   "outputs": [
    {
     "name": "stdout",
     "output_type": "stream",
     "text": [
      "5\n",
      "*****\n",
      " ****\n",
      "  ***\n",
      "   **\n",
      "    *\n"
     ]
    }
   ],
   "source": [
    "n = int(input())\n",
    "star_list = [[\"\" for i in range(n)] for _ in range(n)]\n",
    "\n",
    "#입력\n",
    "for i in range(n):\n",
    "    for j in range(n):\n",
    "        if i<=j:\n",
    "            star_list[i][j] = \"*\"\n",
    "        else:\n",
    "            star_list[i][j] = \" \"\n",
    "        \n",
    "#출력            \n",
    "for i in star_list:\n",
    "    print(''.join(i))"
   ]
  },
  {
   "cell_type": "code",
   "execution_count": 89,
   "metadata": {},
   "outputs": [
    {
     "name": "stdout",
     "output_type": "stream",
     "text": [
      "10\n",
      "**********\n",
      " *********\n",
      "  ********\n",
      "   *******\n",
      "    ******\n",
      "     *****\n",
      "      ****\n",
      "       ***\n",
      "        **\n",
      "         *\n"
     ]
    }
   ],
   "source": [
    "n = int(input())\n",
    "star_list = [[\" \" for i in range(n)] for _ in range(n)]\n",
    "\n",
    "#입력\n",
    "for i in range(n):\n",
    "    #for j in range(n-1, i-1, -1): # 양수인덱스\n",
    "    for j in range(-1, -n+i-1, -1): # 음수인덱스\n",
    "        star_list[i][j] = \"*\"\n",
    "        \n",
    "#출력            \n",
    "for i in star_list:\n",
    "    print(''.join(i))"
   ]
  },
  {
   "cell_type": "markdown",
   "metadata": {},
   "source": [
    "# 별찍기 5\n",
    "\n",
    "        *\n",
    "       ***\n",
    "      *****\n",
    "     *******\n",
    "    *********"
   ]
  },
  {
   "cell_type": "code",
   "execution_count": 9,
   "metadata": {
    "scrolled": false
   },
   "outputs": [
    {
     "name": "stdout",
     "output_type": "stream",
     "text": [
      "5\n",
      "    *\n",
      "   ***\n",
      "  *****\n",
      " *******\n",
      "*********\n"
     ]
    }
   ],
   "source": [
    "n = int(input())\n",
    "star_list = [[\"\" for i in range(n*2-1)] for j in range(n)]\n",
    "\n",
    "#입력\n",
    "for i in range(n):\n",
    "    for j in range(n*2-1):\n",
    "        if i+j<n-1:\n",
    "            star_list[i][j] = \" \"\n",
    "        if j>=n-1-i and j<=n-1+i:\n",
    "            star_list[i][j] = \"*\"\n",
    "        \n",
    "#출력            \n",
    "for i in star_list:\n",
    "    print(''.join(i))"
   ]
  },
  {
   "cell_type": "code",
   "execution_count": 31,
   "metadata": {
    "scrolled": true
   },
   "outputs": [
    {
     "name": "stdout",
     "output_type": "stream",
     "text": [
      "5\n",
      "    *\n",
      "   ***\n",
      "  *****\n",
      " *******\n",
      "*********\n"
     ]
    }
   ],
   "source": [
    "n = int(input())\n",
    "mid = (n*2-1) // 2\n",
    "star_list = [[\"\" for i in range(n*2-1)] for j in range(n)]\n",
    "\n",
    "#입력\n",
    "for i in range(n):\n",
    "    for j in range(n-i-1):\n",
    "        star_list[i][j] = \" \"\n",
    "    for j in range(mid-i,mid+i+1):\n",
    "        star_list[i][j] = \"*\"\n",
    "        \n",
    "#출력            \n",
    "for i in star_list:\n",
    "    print(''.join(i))"
   ]
  },
  {
   "cell_type": "markdown",
   "metadata": {},
   "source": [
    "# 별찍기 6\n",
    "\n",
    "    *********\n",
    "     *******\n",
    "      *****\n",
    "       ***\n",
    "        *"
   ]
  },
  {
   "cell_type": "code",
   "execution_count": 12,
   "metadata": {},
   "outputs": [
    {
     "name": "stdout",
     "output_type": "stream",
     "text": [
      "5\n",
      "*********\n",
      " *******\n",
      "  *****\n",
      "   ***\n",
      "    *\n"
     ]
    }
   ],
   "source": [
    "n = int(input())\n",
    "star_list = [[\"\" for i in range(n*2-1)] for j in range(n)]\n",
    "\n",
    "#입력\n",
    "for i in range(n):\n",
    "    for j in range(n*2-1):\n",
    "        if i>j:\n",
    "            star_list[i][j] = \" \"\n",
    "        if j>=i and j<=2*n-i-2:\n",
    "            star_list[i][j] = \"*\"\n",
    "        \n",
    "#출력            \n",
    "for i in star_list:\n",
    "    print(''.join(i))"
   ]
  },
  {
   "cell_type": "code",
   "execution_count": 23,
   "metadata": {},
   "outputs": [
    {
     "name": "stdout",
     "output_type": "stream",
     "text": [
      "5\n",
      "*********\n",
      " *******\n",
      "  *****\n",
      "   ***\n",
      "    *\n"
     ]
    }
   ],
   "source": [
    "n = int(input())\n",
    "mid = (n*2-1) // 2\n",
    "star_list = [[\"\" for i in range(n*2-1)] for j in range(n)]\n",
    "\n",
    "#입력\n",
    "for i in range(n):\n",
    "    for j in range(i+1):\n",
    "        star_list[i][j] = \" \"\n",
    "    for j in range(mid-(n-i)+1, mid+(n-i)):\n",
    "        star_list[i][j] = \"*\"\n",
    "        \n",
    "#출력            \n",
    "for i in star_list:\n",
    "    print(''.join(i))"
   ]
  },
  {
   "cell_type": "markdown",
   "metadata": {},
   "source": [
    "# 별찍기 7\n",
    "\n",
    "        *\n",
    "       ***\n",
    "      *****\n",
    "     *******\n",
    "    *********\n",
    "     *******\n",
    "      *****\n",
    "       ***\n",
    "        *"
   ]
  },
  {
   "cell_type": "code",
   "execution_count": 76,
   "metadata": {},
   "outputs": [
    {
     "name": "stdout",
     "output_type": "stream",
     "text": [
      "5\n",
      "    *\n",
      "   ***\n",
      "  *****\n",
      " *******\n",
      "*********\n",
      " *******\n",
      "  *****\n",
      "   ***\n",
      "    *\n"
     ]
    }
   ],
   "source": [
    "n = int(input())\n",
    "mid = (n*2-1)//2\n",
    "star_list = [[\"\" for i in range(n*2-1)] for j in range(n*2-1)]\n",
    "\n",
    "#입력\n",
    "for i in range(n):\n",
    "    for j in range(n-i-1):\n",
    "        star_list[i][j] = \" \"\n",
    "    for j in range(mid-i,mid+i+1):\n",
    "        star_list[i][j] = \"*\"\n",
    "for i in range(n,n*2-1):\n",
    "    for j in range(i-mid):\n",
    "        star_list[i][j] = \" \"\n",
    "    for j in range(i-mid,(n*2-1)+(n-i)-1):\n",
    "        star_list[i][j] = \"*\"\n",
    "        \n",
    "#출력            \n",
    "for i in star_list:\n",
    "    print(''.join(i))"
   ]
  },
  {
   "cell_type": "code",
   "execution_count": 129,
   "metadata": {},
   "outputs": [
    {
     "name": "stdout",
     "output_type": "stream",
     "text": [
      "10\n",
      "         *\n",
      "        ***\n",
      "       *****\n",
      "      *******\n",
      "     *********\n",
      "    ***********\n",
      "   *************\n",
      "  ***************\n",
      " *****************\n",
      "*******************\n",
      " *****************\n",
      "  ***************\n",
      "   *************\n",
      "    ***********\n",
      "     *********\n",
      "      *******\n",
      "       *****\n",
      "        ***\n",
      "         *\n"
     ]
    }
   ],
   "source": [
    "n = int(input())\n",
    "mid = (n*2-1)//2\n",
    "star_list = [[\"*\" for i in range(n*2-1)] for j in range(n*2-1)]\n",
    "\n",
    "#입력\n",
    "for i in range(mid):\n",
    "    for j in range(mid-i):\n",
    "        star_list[i][j] = \" \"\n",
    "        \n",
    "for i in range(mid):\n",
    "    for j in range(-1, -mid+i-1, -1):\n",
    "        star_list[i][j] = \"\"\n",
    "        \n",
    "for i in range(-1, -n,-1):\n",
    "    for j in range(0,i+n):\n",
    "        star_list[i][j] = \" \"\n",
    "\n",
    "for i in range(-1, -n,-1):\n",
    "    for j in range(-1,-i-n-1,-1):\n",
    "        star_list[i][j] = \"\"\n",
    "        \n",
    "#출력            \n",
    "for i in star_list:\n",
    "    print(''.join(i))"
   ]
  },
  {
   "cell_type": "markdown",
   "metadata": {},
   "source": [
    "# 별찍기 8\n",
    "\n",
    "    *        *\n",
    "    **      **\n",
    "    ***    ***\n",
    "    ****  ****\n",
    "    **********\n",
    "    ****  ****\n",
    "    ***    ***\n",
    "    **      **\n",
    "    *        *"
   ]
  },
  {
   "cell_type": "code",
   "execution_count": 169,
   "metadata": {
    "scrolled": false
   },
   "outputs": [
    {
     "name": "stdout",
     "output_type": "stream",
     "text": [
      "5\n",
      "*        *\n",
      "**      **\n",
      "***    ***\n",
      "****  ****\n",
      "**********\n",
      "****  ****\n",
      "***    ***\n",
      "**      **\n",
      "*        *\n"
     ]
    }
   ],
   "source": [
    "n = int(input())\n",
    "star_list = [[\"*\" for i in range(n*2)] for j in range(n*2-1)]\n",
    "\n",
    "#입력\n",
    "for i in range(n):\n",
    "    for j in range(i+1, 2*n-i-1):\n",
    "        star_list[i][j] = \" \"\n",
    "for i in range(n, n*2-1):\n",
    "    for j in range(2*n-i-1,i+1):\n",
    "        star_list[i][j] = \" \"\n",
    "        \n",
    "#출력            \n",
    "for i in star_list:\n",
    "    print(''.join(i))"
   ]
  },
  {
   "cell_type": "markdown",
   "metadata": {},
   "source": [
    "# 별찍기 9\n",
    "\n",
    "    *********\n",
    "     *******\n",
    "      *****\n",
    "       ***\n",
    "        *\n",
    "       ***\n",
    "      *****\n",
    "     *******\n",
    "    *********"
   ]
  },
  {
   "cell_type": "code",
   "execution_count": 20,
   "metadata": {},
   "outputs": [
    {
     "name": "stdout",
     "output_type": "stream",
     "text": [
      "10\n",
      "*******************\n",
      " *****************\n",
      "  ***************\n",
      "   *************\n",
      "    ***********\n",
      "     *********\n",
      "      *******\n",
      "       *****\n",
      "        ***\n",
      "         *\n",
      "        ***\n",
      "       *****\n",
      "      *******\n",
      "     *********\n",
      "    ***********\n",
      "   *************\n",
      "  ***************\n",
      " *****************\n",
      "*******************\n"
     ]
    }
   ],
   "source": [
    "n = int(input())\n",
    "mid = (n*2-1)//2\n",
    "star_list = [[\"\" for i in range(n*2-1)] for j in range(n*2-1)]\n",
    "\n",
    "#입력\n",
    "for i in range(n):\n",
    "    for j in range(i):\n",
    "        star_list[i][j] = \" \"\n",
    "    for j in range(i, n*2-1-i):\n",
    "        star_list[i][j] = \"*\"\n",
    "        \n",
    "for i in range(n, n*2-1):\n",
    "    for j in range(mid-i+n-1):\n",
    "        star_list[i][j] = \" \"\n",
    "    for j in range(2*n-i-2,i+1):\n",
    "        star_list[i][j] = \"*\"\n",
    "        \n",
    "#출력            \n",
    "for i in star_list:\n",
    "    print(''.join(i))"
   ]
  },
  {
   "cell_type": "markdown",
   "metadata": {},
   "source": [
    "# 별찍기 10\n",
    "\n",
    "\n",
    "    ***************************\n",
    "    * ** ** ** ** ** ** ** ** *\n",
    "    ***************************\n",
    "    ***   ******   ******   ***\n",
    "    * *   * ** *   * ** *   * *\n",
    "    ***   ******   ******   ***\n",
    "    ***************************\n",
    "    * ** ** ** ** ** ** ** ** *\n",
    "    ***************************\n",
    "    *********         *********\n",
    "    * ** ** *         * ** ** *\n",
    "    *********         *********\n",
    "    ***   ***         ***   ***\n",
    "    * *   * *         * *   * *\n",
    "    ***   ***         ***   ***\n",
    "    *********         *********\n",
    "    * ** ** *         * ** ** *\n",
    "    *********         *********\n",
    "    ***************************\n",
    "    * ** ** ** ** ** ** ** ** *\n",
    "    ***************************\n",
    "    ***   ******   ******   ***\n",
    "    * *   * ** *   * ** *   * *\n",
    "    ***   ******   ******   ***\n",
    "    ***************************\n",
    "    * ** ** ** ** ** ** ** ** *\n",
    "    ***************************\n",
    "    \n",
    "    "
   ]
  },
  {
   "cell_type": "code",
   "execution_count": 93,
   "metadata": {},
   "outputs": [
    {
     "name": "stdout",
     "output_type": "stream",
     "text": [
      "1 3\n",
      "2 9\n",
      "3 27\n",
      "4 81\n",
      "5 243\n",
      "6 729\n",
      "7 2187\n",
      "8 6561\n"
     ]
    }
   ],
   "source": [
    "for i in range(1, 9):\n",
    "    print(i, 3**i)"
   ]
  },
  {
   "cell_type": "code",
   "execution_count": 107,
   "metadata": {
    "scrolled": true
   },
   "outputs": [
    {
     "name": "stdout",
     "output_type": "stream",
     "text": [
      "81\n",
      "*********************************************************************************\n",
      "* ** ** ** ** ** ** ** ** ** ** ** ** ** ** ** ** ** ** ** ** ** ** ** ** ** ** *\n",
      "*********************************************************************************\n",
      "***   ******   ******   ******   ******   ******   ******   ******   ******   ***\n",
      "* *   * ** *   * ** *   * ** *   * ** *   * ** *   * ** *   * ** *   * ** *   * *\n",
      "***   ******   ******   ******   ******   ******   ******   ******   ******   ***\n",
      "*********************************************************************************\n",
      "* ** ** ** ** ** ** ** ** ** ** ** ** ** ** ** ** ** ** ** ** ** ** ** ** ** ** *\n",
      "*********************************************************************************\n",
      "*********         ******************         ******************         *********\n",
      "* ** ** *         * ** ** ** ** ** *         * ** ** ** ** ** *         * ** ** *\n",
      "*********         ******************         ******************         *********\n",
      "***   ***         ***   ******   ***         ***   ******   ***         ***   ***\n",
      "* *   * *         * *   * ** *   * *         * *   * ** *   * *         * *   * *\n",
      "***   ***         ***   ******   ***         ***   ******   ***         ***   ***\n",
      "*********         ******************         ******************         *********\n",
      "* ** ** *         * ** ** ** ** ** *         * ** ** ** ** ** *         * ** ** *\n",
      "*********         ******************         ******************         *********\n",
      "*********************************************************************************\n",
      "* ** ** ** ** ** ** ** ** ** ** ** ** ** ** ** ** ** ** ** ** ** ** ** ** ** ** *\n",
      "*********************************************************************************\n",
      "***   ******   ******   ******   ******   ******   ******   ******   ******   ***\n",
      "* *   * ** *   * ** *   * ** *   * ** *   * ** *   * ** *   * ** *   * ** *   * *\n",
      "***   ******   ******   ******   ******   ******   ******   ******   ******   ***\n",
      "*********************************************************************************\n",
      "* ** ** ** ** ** ** ** ** ** ** ** ** ** ** ** ** ** ** ** ** ** ** ** ** ** ** *\n",
      "*********************************************************************************\n",
      "***************************                           ***************************\n",
      "* ** ** ** ** ** ** ** ** *                           * ** ** ** ** ** ** ** ** *\n",
      "***************************                           ***************************\n",
      "***   ******   ******   ***                           ***   ******   ******   ***\n",
      "* *   * ** *   * ** *   * *                           * *   * ** *   * ** *   * *\n",
      "***   ******   ******   ***                           ***   ******   ******   ***\n",
      "***************************                           ***************************\n",
      "* ** ** ** ** ** ** ** ** *                           * ** ** ** ** ** ** ** ** *\n",
      "***************************                           ***************************\n",
      "*********         *********                           *********         *********\n",
      "* ** ** *         * ** ** *                           * ** ** *         * ** ** *\n",
      "*********         *********                           *********         *********\n",
      "***   ***         ***   ***                           ***   ***         ***   ***\n",
      "* *   * *         * *   * *                           * *   * *         * *   * *\n",
      "***   ***         ***   ***                           ***   ***         ***   ***\n",
      "*********         *********                           *********         *********\n",
      "* ** ** *         * ** ** *                           * ** ** *         * ** ** *\n",
      "*********         *********                           *********         *********\n",
      "***************************                           ***************************\n",
      "* ** ** ** ** ** ** ** ** *                           * ** ** ** ** ** ** ** ** *\n",
      "***************************                           ***************************\n",
      "***   ******   ******   ***                           ***   ******   ******   ***\n",
      "* *   * ** *   * ** *   * *                           * *   * ** *   * ** *   * *\n",
      "***   ******   ******   ***                           ***   ******   ******   ***\n",
      "***************************                           ***************************\n",
      "* ** ** ** ** ** ** ** ** *                           * ** ** ** ** ** ** ** ** *\n",
      "***************************                           ***************************\n",
      "*********************************************************************************\n",
      "* ** ** ** ** ** ** ** ** ** ** ** ** ** ** ** ** ** ** ** ** ** ** ** ** ** ** *\n",
      "*********************************************************************************\n",
      "***   ******   ******   ******   ******   ******   ******   ******   ******   ***\n",
      "* *   * ** *   * ** *   * ** *   * ** *   * ** *   * ** *   * ** *   * ** *   * *\n",
      "***   ******   ******   ******   ******   ******   ******   ******   ******   ***\n",
      "*********************************************************************************\n",
      "* ** ** ** ** ** ** ** ** ** ** ** ** ** ** ** ** ** ** ** ** ** ** ** ** ** ** *\n",
      "*********************************************************************************\n",
      "*********         ******************         ******************         *********\n",
      "* ** ** *         * ** ** ** ** ** *         * ** ** ** ** ** *         * ** ** *\n",
      "*********         ******************         ******************         *********\n",
      "***   ***         ***   ******   ***         ***   ******   ***         ***   ***\n",
      "* *   * *         * *   * ** *   * *         * *   * ** *   * *         * *   * *\n",
      "***   ***         ***   ******   ***         ***   ******   ***         ***   ***\n",
      "*********         ******************         ******************         *********\n",
      "* ** ** *         * ** ** ** ** ** *         * ** ** ** ** ** *         * ** ** *\n",
      "*********         ******************         ******************         *********\n",
      "*********************************************************************************\n",
      "* ** ** ** ** ** ** ** ** ** ** ** ** ** ** ** ** ** ** ** ** ** ** ** ** ** ** *\n",
      "*********************************************************************************\n",
      "***   ******   ******   ******   ******   ******   ******   ******   ******   ***\n",
      "* *   * ** *   * ** *   * ** *   * ** *   * ** *   * ** *   * ** *   * ** *   * *\n",
      "***   ******   ******   ******   ******   ******   ******   ******   ******   ***\n",
      "*********************************************************************************\n",
      "* ** ** ** ** ** ** ** ** ** ** ** ** ** ** ** ** ** ** ** ** ** ** ** ** ** ** *\n",
      "*********************************************************************************\n"
     ]
    }
   ],
   "source": [
    "n = int(input())\n",
    "mid = n//2\n",
    "limit = (n//3)//2\n",
    "star_list = [[\"*\" for i in range(n)] for j in range(n)]\n",
    "\n",
    "#입력\n",
    "def get_star(n, star_list):\n",
    "    #print()\n",
    "    #print(\"len(n):\", len(star_list))\n",
    "    #print(\"n:\", n)\n",
    "    #print(\"n//2:\", n//2)\n",
    "    #print(\"n//3//2:\", (n//3)//2)\n",
    "    #print(\"n//2-(n//3)//2:\", n//2-(n//3)//2)\n",
    "    #print(\"n//2+(n//3)//2:\", n//2+(n//3)//2)\n",
    "    #print(range(n//2-(n//3)//2, n//2+(n//3)//2+1))\n",
    "    \n",
    "    if n==1:\n",
    "        return star_list\n",
    "    else:\n",
    "        lst = []\n",
    "        for k in range(n//2-(n//3)//2, n//2+(n//3)//2+1):\n",
    "            lst.append(k)\n",
    "            \n",
    "        for i in range(len(star_list)):#range(n//2-(n//3)//2, n//2+(n//3)//2+1): # mid - limit, mid + limit\n",
    "            for j in range(len(star_list)):#range(n//2-(n//3)//2, n//2+(n//3)//2+1):\n",
    "                if i%n in lst and j%n in lst:#if i%n==k and j%n==k:\n",
    "                    star_list[i][j] = \" \"#str(n)\n",
    "                \n",
    "                #if i%3==1 and j%3==1:\n",
    "                #    star_list[i][j] = \" \"\n",
    "                #elif (i%9==3 or i%9==4 or i%9==5) and (j%9==3 or j%9==4 or j%9==5):\n",
    "                #    star_list[i][j] = \"@\"\n",
    "                \n",
    "        return get_star(n//3, star_list)\n",
    "#for i in range(n):\n",
    "#    for j in range(n):\n",
    "#        star_list[i][j] = \"@\"\n",
    "\n",
    "get_star(n, star_list)\n",
    "        \n",
    "#출력            \n",
    "for i in star_list:\n",
    "    print(''.join(i))"
   ]
  },
  {
   "cell_type": "code",
   "execution_count": 22,
   "metadata": {},
   "outputs": [
    {
     "name": "stdout",
     "output_type": "stream",
     "text": [
      "9\n",
      "3\n",
      "1\n",
      "1\n",
      "1\n",
      "1\n",
      "1\n",
      "1\n",
      "1\n",
      "1\n",
      "*********\n",
      "* ** ** *\n",
      "*********\n",
      "***   ***\n",
      "* *   * *\n",
      "***   ***\n",
      "*********\n",
      "* ** ** *\n",
      "*********\n"
     ]
    }
   ],
   "source": [
    "def star(i, j, n):\n",
    "    # 기저조건\n",
    "    if n == 1: # \n",
    "        # 준비된 판에 색을 칠합니다.\n",
    "        board[i][j] = '*'\n",
    "        return # 어떤 무언가를 돌려주려는게 아니라, 그냥 함수를 종료\n",
    "    \n",
    "    # n = 3이면 1, n = 9이면, 3, n = 27이면, 9\n",
    "    add = n // 3\n",
    "    '''\n",
    "    1 3\n",
    "    2 9\n",
    "    3 27\n",
    "    4 81\n",
    "    5 243\n",
    "    6 729\n",
    "    7 2187\n",
    "    8 6561\n",
    "    '''\n",
    "    print(n//3)\n",
    "    # 일단 처음에는 반복문 쓰지 않고 무식하게 작성 해보기... \n",
    "    \n",
    "    star(i, j, add)\n",
    "    star(i, j + add, add)\n",
    "    star(i, j + add + add, add)\n",
    "    \n",
    "    star(i + add, j, add)\n",
    "    #star(i+add, j+add, add)\n",
    "    star(i + add, j + add + add, add)\n",
    "    \n",
    "    star(i + add + add, j, add)\n",
    "    star(i + add + add, j + add, add)\n",
    "    star(i + add + add, j + add + add, add)\n",
    "    \n",
    "    '''for i_ in range(3):\n",
    "        for j_ in range(3):\n",
    "            if i_==1 and j_==1: continue\n",
    "            star(i+i_*add, j+j_*add, add)'''\n",
    "\n",
    "n = int(input())\n",
    "\n",
    "board = [[' ' for _ in range(n)] for _ in range(n)]\n",
    "\n",
    "star(0, 0, n)\n",
    "\n",
    "for line in board:\n",
    "    print(''.join(line))"
   ]
  },
  {
   "cell_type": "markdown",
   "metadata": {},
   "source": [
    "# 별찍기 11\n",
    "\n",
    "                           *                        \n",
    "                          * *                       \n",
    "                         *****                      \n",
    "                        *     *                     \n",
    "                       * *   * *                    \n",
    "                      ***** *****                   \n",
    "                     *           *                  \n",
    "                    * *         * *                 \n",
    "                   *****       *****                \n",
    "                  *     *     *     *               \n",
    "                 * *   * *   * *   * *              \n",
    "                ***** ***** ***** *****             \n",
    "               *                       *            \n",
    "              * *                     * *           \n",
    "             *****                   *****          \n",
    "            *     *                 *     *         \n",
    "           * *   * *               * *   * *        \n",
    "          ***** *****             ***** *****       \n",
    "         *           *           *           *      \n",
    "        * *         * *         * *         * *     \n",
    "       *****       *****       *****       *****    \n",
    "      *     *     *     *     *     *     *     *   \n",
    "     * *   * *   * *   * *   * *   * *   * *   * *  \n",
    "    ***** ***** ***** ***** ***** ***** ***** *****"
   ]
  },
  {
   "cell_type": "code",
   "execution_count": 17,
   "metadata": {
    "scrolled": true
   },
   "outputs": [
    {
     "name": "stdout",
     "output_type": "stream",
     "text": [
      "0 3\n",
      "1 6\n",
      "2 12\n",
      "3 24\n",
      "4 48\n",
      "5 96\n",
      "6 192\n",
      "7 384\n",
      "8 768\n",
      "9 1536\n",
      "10 3072\n"
     ]
    }
   ],
   "source": [
    "#첫째 줄에 N이 주어진다. N은 항상 3×2^k 수이다. (3, 6, 12, 24, 48, ...) (0 ≤ k ≤ 10, k는 정수)\n",
    "\n",
    "for i in range(0, 11):\n",
    "    print(i, 3*2**i)"
   ]
  },
  {
   "cell_type": "code",
   "execution_count": 25,
   "metadata": {},
   "outputs": [
    {
     "name": "stdout",
     "output_type": "stream",
     "text": [
      "1\n"
     ]
    }
   ],
   "source": [
    "n=3\n",
    "add = n // 2\n",
    "print(add)"
   ]
  },
  {
   "cell_type": "markdown",
   "metadata": {},
   "source": [
    "|||-3,2||||\n",
    "|-|-|-|-|-|-|\n",
    "||-2,1||-2,3|||\n",
    "|-|-|-|-|-|-|\n",
    "|*-1,0*|-1,1|-1,2|-1,3|-1,4||"
   ]
  },
  {
   "cell_type": "code",
   "execution_count": 4,
   "metadata": {},
   "outputs": [
    {
     "name": "stdout",
     "output_type": "stream",
     "text": [
      "6\n",
      "n//2:  3\n"
     ]
    },
    {
     "ename": "IndexError",
     "evalue": "list index out of range",
     "output_type": "error",
     "traceback": [
      "\u001b[0;31m---------------------------------------------------------------------------\u001b[0m",
      "\u001b[0;31mIndexError\u001b[0m                                Traceback (most recent call last)",
      "\u001b[0;32m<ipython-input-4-5287b05626ee>\u001b[0m in \u001b[0;36m<module>\u001b[0;34m\u001b[0m\n\u001b[1;32m     36\u001b[0m \u001b[0mboard\u001b[0m \u001b[0;34m=\u001b[0m \u001b[0;34m[\u001b[0m\u001b[0;34m[\u001b[0m\u001b[0;34m' '\u001b[0m \u001b[0;32mfor\u001b[0m \u001b[0m_\u001b[0m \u001b[0;32min\u001b[0m \u001b[0mrange\u001b[0m\u001b[0;34m(\u001b[0m\u001b[0mn\u001b[0m\u001b[0;34m*\u001b[0m\u001b[0;36m2\u001b[0m\u001b[0;34m)\u001b[0m\u001b[0;34m]\u001b[0m \u001b[0;32mfor\u001b[0m \u001b[0m_\u001b[0m \u001b[0;32min\u001b[0m \u001b[0mrange\u001b[0m\u001b[0;34m(\u001b[0m\u001b[0mn\u001b[0m\u001b[0;34m)\u001b[0m\u001b[0;34m]\u001b[0m\u001b[0;34m\u001b[0m\u001b[0;34m\u001b[0m\u001b[0m\n\u001b[1;32m     37\u001b[0m \u001b[0;34m\u001b[0m\u001b[0m\n\u001b[0;32m---> 38\u001b[0;31m \u001b[0mstar\u001b[0m\u001b[0;34m(\u001b[0m\u001b[0;34m-\u001b[0m\u001b[0;36m1\u001b[0m\u001b[0;34m,\u001b[0m \u001b[0;36m0\u001b[0m\u001b[0;34m,\u001b[0m \u001b[0mn\u001b[0m\u001b[0;34m)\u001b[0m\u001b[0;34m\u001b[0m\u001b[0;34m\u001b[0m\u001b[0m\n\u001b[0m\u001b[1;32m     39\u001b[0m \u001b[0;34m\u001b[0m\u001b[0m\n\u001b[1;32m     40\u001b[0m \u001b[0;32mfor\u001b[0m \u001b[0mline\u001b[0m \u001b[0;32min\u001b[0m \u001b[0mboard\u001b[0m\u001b[0;34m:\u001b[0m\u001b[0;34m\u001b[0m\u001b[0;34m\u001b[0m\u001b[0m\n",
      "\u001b[0;32m<ipython-input-4-5287b05626ee>\u001b[0m in \u001b[0;36mstar\u001b[0;34m(i, j, n)\u001b[0m\n\u001b[1;32m     30\u001b[0m     \u001b[0mstar\u001b[0m\u001b[0;34m(\u001b[0m\u001b[0mi\u001b[0m\u001b[0;34m-\u001b[0m\u001b[0madd\u001b[0m\u001b[0;34m,\u001b[0m \u001b[0mj\u001b[0m\u001b[0;34m+\u001b[0m\u001b[0;36m3\u001b[0m\u001b[0;34m,\u001b[0m \u001b[0madd\u001b[0m\u001b[0;34m)\u001b[0m\u001b[0;34m\u001b[0m\u001b[0;34m\u001b[0m\u001b[0m\n\u001b[1;32m     31\u001b[0m \u001b[0;34m\u001b[0m\u001b[0m\n\u001b[0;32m---> 32\u001b[0;31m     \u001b[0mstar\u001b[0m\u001b[0;34m(\u001b[0m\u001b[0mi\u001b[0m\u001b[0;34m-\u001b[0m\u001b[0madd\u001b[0m\u001b[0;34m-\u001b[0m\u001b[0madd\u001b[0m\u001b[0;34m,\u001b[0m \u001b[0mj\u001b[0m\u001b[0;34m+\u001b[0m\u001b[0;36m2\u001b[0m\u001b[0;34m,\u001b[0m \u001b[0madd\u001b[0m\u001b[0;34m)\u001b[0m\u001b[0;34m\u001b[0m\u001b[0;34m\u001b[0m\u001b[0m\n\u001b[0m\u001b[1;32m     33\u001b[0m \u001b[0;34m\u001b[0m\u001b[0m\n\u001b[1;32m     34\u001b[0m \u001b[0mn\u001b[0m \u001b[0;34m=\u001b[0m \u001b[0mint\u001b[0m\u001b[0;34m(\u001b[0m\u001b[0minput\u001b[0m\u001b[0;34m(\u001b[0m\u001b[0;34m)\u001b[0m\u001b[0;34m)\u001b[0m\u001b[0;34m\u001b[0m\u001b[0;34m\u001b[0m\u001b[0m\n",
      "\u001b[0;32m<ipython-input-4-5287b05626ee>\u001b[0m in \u001b[0;36mstar\u001b[0;34m(i, j, n)\u001b[0m\n\u001b[1;32m     21\u001b[0m     '''\n\u001b[1;32m     22\u001b[0m \u001b[0;34m\u001b[0m\u001b[0m\n\u001b[0;32m---> 23\u001b[0;31m     \u001b[0mstar\u001b[0m\u001b[0;34m(\u001b[0m\u001b[0mi\u001b[0m\u001b[0;34m,\u001b[0m \u001b[0mj\u001b[0m\u001b[0;34m,\u001b[0m \u001b[0madd\u001b[0m\u001b[0;34m)\u001b[0m\u001b[0;34m\u001b[0m\u001b[0;34m\u001b[0m\u001b[0m\n\u001b[0m\u001b[1;32m     24\u001b[0m     \u001b[0mstar\u001b[0m\u001b[0;34m(\u001b[0m\u001b[0mi\u001b[0m\u001b[0;34m,\u001b[0m \u001b[0mj\u001b[0m\u001b[0;34m+\u001b[0m\u001b[0;36m1\u001b[0m\u001b[0;34m,\u001b[0m \u001b[0madd\u001b[0m\u001b[0;34m)\u001b[0m\u001b[0;34m\u001b[0m\u001b[0;34m\u001b[0m\u001b[0m\n\u001b[1;32m     25\u001b[0m     \u001b[0mstar\u001b[0m\u001b[0;34m(\u001b[0m\u001b[0mi\u001b[0m\u001b[0;34m,\u001b[0m \u001b[0mj\u001b[0m\u001b[0;34m+\u001b[0m\u001b[0;36m2\u001b[0m\u001b[0;34m,\u001b[0m \u001b[0madd\u001b[0m\u001b[0;34m)\u001b[0m\u001b[0;34m\u001b[0m\u001b[0;34m\u001b[0m\u001b[0m\n",
      "\u001b[0;32m<ipython-input-4-5287b05626ee>\u001b[0m in \u001b[0;36mstar\u001b[0;34m(i, j, n)\u001b[0m\n\u001b[1;32m      2\u001b[0m     \u001b[0;31m# 기저조건\u001b[0m\u001b[0;34m\u001b[0m\u001b[0;34m\u001b[0m\u001b[0;34m\u001b[0m\u001b[0m\n\u001b[1;32m      3\u001b[0m     \u001b[0;32mif\u001b[0m \u001b[0mn\u001b[0m \u001b[0;34m==\u001b[0m \u001b[0;36m1\u001b[0m\u001b[0;34m:\u001b[0m\u001b[0;34m\u001b[0m\u001b[0;34m\u001b[0m\u001b[0m\n\u001b[0;32m----> 4\u001b[0;31m         \u001b[0mboard\u001b[0m\u001b[0;34m[\u001b[0m\u001b[0mi\u001b[0m\u001b[0;34m]\u001b[0m\u001b[0;34m[\u001b[0m\u001b[0mj\u001b[0m\u001b[0;34m]\u001b[0m \u001b[0;34m=\u001b[0m \u001b[0;34m'*'\u001b[0m\u001b[0;34m\u001b[0m\u001b[0;34m\u001b[0m\u001b[0m\n\u001b[0m\u001b[1;32m      5\u001b[0m         \u001b[0;32mreturn\u001b[0m\u001b[0;34m\u001b[0m\u001b[0;34m\u001b[0m\u001b[0m\n\u001b[1;32m      6\u001b[0m \u001b[0;34m\u001b[0m\u001b[0m\n",
      "\u001b[0;31mIndexError\u001b[0m: list index out of range"
     ]
    }
   ],
   "source": [
    "def star(i, j, n):\n",
    "    # 기저조건\n",
    "    if n == 1:\n",
    "        board[i][j] = '*'\n",
    "        return\n",
    "    \n",
    "    # n = 3이면 1, n = 9이면, 3, n = 27이면, 9\n",
    "    add = n // 2\n",
    "    '''\n",
    "    0 3\n",
    "    1 6\n",
    "    2 12\n",
    "    3 24\n",
    "    4 48\n",
    "    5 96\n",
    "    6 192\n",
    "    7 384\n",
    "    8 768\n",
    "    9 1536\n",
    "    10 3072\n",
    "    '''\n",
    "    \n",
    "    star(i, j, add)\n",
    "    star(i, j+1, add)\n",
    "    star(i, j+2, add)\n",
    "    star(i, j+3, add)\n",
    "    star(i, j+4, add)\n",
    "    \n",
    "    star(i-add, j+1, add)\n",
    "    star(i-add, j+3, add)\n",
    "    \n",
    "    star(i-add-add, j+2, add)\n",
    "\n",
    "n = int(input())\n",
    "print(\"n//2: \", n//2)\n",
    "board = [[' ' for _ in range(n*2)] for _ in range(n)]\n",
    "\n",
    "star(-1, 0, n)\n",
    "\n",
    "for line in board:\n",
    "    print(''.join(line))"
   ]
  },
  {
   "cell_type": "code",
   "execution_count": null,
   "metadata": {},
   "outputs": [],
   "source": []
  }
 ],
 "metadata": {
  "kernelspec": {
   "display_name": "Python 3",
   "language": "python",
   "name": "python3"
  },
  "language_info": {
   "codemirror_mode": {
    "name": "ipython",
    "version": 3
   },
   "file_extension": ".py",
   "mimetype": "text/x-python",
   "name": "python",
   "nbconvert_exporter": "python",
   "pygments_lexer": "ipython3",
   "version": "3.7.4"
  }
 },
 "nbformat": 4,
 "nbformat_minor": 2
}
