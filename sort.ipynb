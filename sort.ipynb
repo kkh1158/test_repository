{
 "cells": [
  {
   "cell_type": "markdown",
   "metadata": {},
   "source": [
    "# 버블정렬"
   ]
  },
  {
   "cell_type": "code",
   "execution_count": 90,
   "metadata": {},
   "outputs": [
    {
     "name": "stdout",
     "output_type": "stream",
     "text": [
      "[2, 4, 3, 7, 0, 5, 8, 6, 9, 1]\n",
      "[0, 1, 2, 3, 4, 5, 6, 7, 8, 9]\n"
     ]
    }
   ],
   "source": [
    "import random\n",
    "\n",
    "mylist = [x for x in range(0, 10)]\n",
    "random.shuffle(mylist)\n",
    "print(mylist)\n",
    "\n",
    "for i in range(len(mylist) - 1):\n",
    "    for j in range(len(mylist) - 1 - i):\n",
    "        if mylist[j] > mylist[j+1]:\n",
    "            mylist[j], mylist[j+1] = mylist[j+1], mylist[j]\n",
    "        \n",
    "print(mylist)"
   ]
  },
  {
   "cell_type": "markdown",
   "metadata": {},
   "source": [
    "# 삽입정렬"
   ]
  },
  {
   "cell_type": "code",
   "execution_count": 91,
   "metadata": {},
   "outputs": [
    {
     "name": "stdout",
     "output_type": "stream",
     "text": [
      "[9, 4, 3, 6, 1, 0, 2, 8, 5, 7]\n",
      "[0, 1, 2, 3, 4, 5, 6, 7, 8, 9]\n"
     ]
    }
   ],
   "source": [
    "import random\n",
    "\n",
    "mylist = [x for x in range(0, 10)]\n",
    "random.shuffle(mylist)\n",
    "print(mylist)\n",
    "\n",
    "for i in range(1, len(mylist)):\n",
    "    for j in range(i):\n",
    "        if mylist[i] < mylist[j]:\n",
    "            mylist.insert(j,mylist.pop(i))\n",
    "            break\n",
    "            \n",
    "print(mylist)"
   ]
  },
  {
   "cell_type": "markdown",
   "metadata": {},
   "source": [
    "# 선택정렬"
   ]
  },
  {
   "cell_type": "code",
   "execution_count": 68,
   "metadata": {},
   "outputs": [
    {
     "name": "stdout",
     "output_type": "stream",
     "text": [
      "[2, 3, 6, 5, 7, 8, 9, 0, 1, 4]\n",
      "[0, 1, 2, 3, 4, 5, 6, 7, 8, 9]\n"
     ]
    }
   ],
   "source": [
    "import random\n",
    "\n",
    "mylist = [x for x in range(0, 10)]\n",
    "random.shuffle(mylist)\n",
    "print(mylist)\n",
    "\n",
    "sort = []\n",
    "while mylist:\n",
    "    min_ = min(mylist)\n",
    "    sort.append(min_)\n",
    "    mylist.remove(min_)\n",
    "\n",
    "print(sort)"
   ]
  },
  {
   "cell_type": "code",
   "execution_count": 93,
   "metadata": {},
   "outputs": [
    {
     "name": "stdout",
     "output_type": "stream",
     "text": [
      "[3, 2, 0, 5, 8, 7, 4, 9, 1, 6]\n",
      "0 2 [3, 2, 0, 5, 8, 7, 4, 9, 1, 6]\n",
      "1 8 [0, 2, 3, 5, 8, 7, 4, 9, 1, 6]\n",
      "2 8 [0, 1, 3, 5, 8, 7, 4, 9, 2, 6]\n",
      "3 8 [0, 1, 2, 5, 8, 7, 4, 9, 3, 6]\n",
      "4 6 [0, 1, 2, 3, 8, 7, 4, 9, 5, 6]\n",
      "5 8 [0, 1, 2, 3, 4, 7, 8, 9, 5, 6]\n",
      "6 9 [0, 1, 2, 3, 4, 5, 8, 9, 7, 6]\n",
      "7 8 [0, 1, 2, 3, 4, 5, 6, 9, 7, 8]\n",
      "8 9 [0, 1, 2, 3, 4, 5, 6, 7, 9, 8]\n",
      "[0, 1, 2, 3, 4, 5, 6, 7, 8, 9]\n"
     ]
    }
   ],
   "source": [
    "import random\n",
    "\n",
    "mylist = [x for x in range(0,10)]\n",
    "random.shuffle(mylist)\n",
    "print(mylist)\n",
    "\n",
    "for i in range(len(mylist)-1):\n",
    "    min_ = i\n",
    "    for j in range(i+1, len(mylist)):\n",
    "        if mylist[j] < mylist[min_]:\n",
    "            min_ = j\n",
    "    print(i, min_, mylist)\n",
    "    mylist[min_], mylist[i] = mylist[i], mylist[min_]\n",
    "    \n",
    "    \n",
    "print(mylist)"
   ]
  },
  {
   "cell_type": "markdown",
   "metadata": {},
   "source": [
    "# 병합정렬"
   ]
  },
  {
   "cell_type": "code",
   "execution_count": null,
   "metadata": {},
   "outputs": [],
   "source": []
  }
 ],
 "metadata": {
  "kernelspec": {
   "display_name": "Python 3",
   "language": "python",
   "name": "python3"
  },
  "language_info": {
   "codemirror_mode": {
    "name": "ipython",
    "version": 3
   },
   "file_extension": ".py",
   "mimetype": "text/x-python",
   "name": "python",
   "nbconvert_exporter": "python",
   "pygments_lexer": "ipython3",
   "version": "3.7.4"
  }
 },
 "nbformat": 4,
 "nbformat_minor": 2
}
