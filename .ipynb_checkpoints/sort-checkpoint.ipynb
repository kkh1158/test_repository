{
 "cells": [
  {
   "cell_type": "markdown",
   "metadata": {},
   "source": [
    "# 버블정렬"
   ]
  },
  {
   "cell_type": "code",
   "execution_count": 90,
   "metadata": {},
   "outputs": [
    {
     "name": "stdout",
     "output_type": "stream",
     "text": [
      "[2, 4, 3, 7, 0, 5, 8, 6, 9, 1]\n",
      "[0, 1, 2, 3, 4, 5, 6, 7, 8, 9]\n"
     ]
    }
   ],
   "source": [
    "import random\n",
    "\n",
    "mylist = [x for x in range(0, 10)]\n",
    "random.shuffle(mylist)\n",
    "print(mylist)\n",
    "\n",
    "for i in range(len(mylist) - 1):\n",
    "    for j in range(len(mylist) - 1 - i):\n",
    "        if mylist[j] > mylist[j+1]:\n",
    "            mylist[j], mylist[j+1] = mylist[j+1], mylist[j]\n",
    "        \n",
    "print(mylist)"
   ]
  },
  {
   "cell_type": "markdown",
   "metadata": {},
   "source": [
    "# 삽입정렬"
   ]
  },
  {
   "cell_type": "code",
   "execution_count": 91,
   "metadata": {},
   "outputs": [
    {
     "name": "stdout",
     "output_type": "stream",
     "text": [
      "[9, 4, 3, 6, 1, 0, 2, 8, 5, 7]\n",
      "[0, 1, 2, 3, 4, 5, 6, 7, 8, 9]\n"
     ]
    }
   ],
   "source": [
    "import random\n",
    "\n",
    "mylist = [x for x in range(0, 10)]\n",
    "random.shuffle(mylist)\n",
    "print(mylist)\n",
    "\n",
    "for i in range(1, len(mylist)):\n",
    "    for j in range(i):\n",
    "        if mylist[i] < mylist[j]:\n",
    "            mylist.insert(j,mylist.pop(i))\n",
    "            break\n",
    "            \n",
    "print(mylist)"
   ]
  },
  {
   "cell_type": "markdown",
   "metadata": {},
   "source": [
    "# 선택정렬"
   ]
  },
  {
   "cell_type": "code",
   "execution_count": 68,
   "metadata": {},
   "outputs": [
    {
     "name": "stdout",
     "output_type": "stream",
     "text": [
      "[2, 3, 6, 5, 7, 8, 9, 0, 1, 4]\n",
      "[0, 1, 2, 3, 4, 5, 6, 7, 8, 9]\n"
     ]
    }
   ],
   "source": [
    "import random\n",
    "\n",
    "mylist = [x for x in range(0, 10)]\n",
    "random.shuffle(mylist)\n",
    "print(mylist)\n",
    "\n",
    "sort = []\n",
    "while mylist:\n",
    "    min_ = min(mylist)\n",
    "    sort.append(min_)\n",
    "    mylist.remove(min_)\n",
    "\n",
    "print(sort)"
   ]
  },
  {
   "cell_type": "code",
   "execution_count": 93,
   "metadata": {},
   "outputs": [
    {
     "name": "stdout",
     "output_type": "stream",
     "text": [
      "[3, 2, 0, 5, 8, 7, 4, 9, 1, 6]\n",
      "0 2 [3, 2, 0, 5, 8, 7, 4, 9, 1, 6]\n",
      "1 8 [0, 2, 3, 5, 8, 7, 4, 9, 1, 6]\n",
      "2 8 [0, 1, 3, 5, 8, 7, 4, 9, 2, 6]\n",
      "3 8 [0, 1, 2, 5, 8, 7, 4, 9, 3, 6]\n",
      "4 6 [0, 1, 2, 3, 8, 7, 4, 9, 5, 6]\n",
      "5 8 [0, 1, 2, 3, 4, 7, 8, 9, 5, 6]\n",
      "6 9 [0, 1, 2, 3, 4, 5, 8, 9, 7, 6]\n",
      "7 8 [0, 1, 2, 3, 4, 5, 6, 9, 7, 8]\n",
      "8 9 [0, 1, 2, 3, 4, 5, 6, 7, 9, 8]\n",
      "[0, 1, 2, 3, 4, 5, 6, 7, 8, 9]\n"
     ]
    }
   ],
   "source": [
    "import random\n",
    "\n",
    "mylist = [x for x in range(0,10)]\n",
    "random.shuffle(mylist)\n",
    "print(mylist)\n",
    "\n",
    "for i in range(len(mylist)-1):\n",
    "    min_ = i\n",
    "    for j in range(i+1, len(mylist)):\n",
    "        if mylist[j] < mylist[min_]:\n",
    "            min_ = j\n",
    "    print(i, min_, mylist)\n",
    "    mylist[min_], mylist[i] = mylist[i], mylist[min_]\n",
    "    \n",
    "    \n",
    "print(mylist)"
   ]
  },
  {
   "cell_type": "markdown",
   "metadata": {},
   "source": [
    "----------------------------정렬모음----------------------------"
   ]
  },
  {
   "cell_type": "code",
   "execution_count": 9,
   "metadata": {
    "scrolled": true
   },
   "outputs": [
    {
     "name": "stdout",
     "output_type": "stream",
     "text": [
      "[7, 6, 5, 4, 2, 1, 8, 9, 0, 3]\n",
      "\n",
      "(1/9) 회전\n",
      "[6, 7, 5, 4, 2, 1, 8, 9, 0, 3]\n",
      "[6, 5, 7, 4, 2, 1, 8, 9, 0, 3]\n",
      "[6, 5, 4, 7, 2, 1, 8, 9, 0, 3]\n",
      "[6, 5, 4, 2, 7, 1, 8, 9, 0, 3]\n",
      "[6, 5, 4, 2, 1, 7, 8, 9, 0, 3]\n",
      "[6, 5, 4, 2, 1, 7, 8, 9, 0, 3]\n",
      "[6, 5, 4, 2, 1, 7, 8, 9, 0, 3]\n",
      "[6, 5, 4, 2, 1, 7, 8, 0, 9, 3]\n",
      "[6, 5, 4, 2, 1, 7, 8, 0, 3, 9]\n",
      "\n",
      "(2/9) 회전\n",
      "[5, 6, 4, 2, 1, 7, 8, 0, 3, 9]\n",
      "[5, 4, 6, 2, 1, 7, 8, 0, 3, 9]\n",
      "[5, 4, 2, 6, 1, 7, 8, 0, 3, 9]\n",
      "[5, 4, 2, 1, 6, 7, 8, 0, 3, 9]\n",
      "[5, 4, 2, 1, 6, 7, 8, 0, 3, 9]\n",
      "[5, 4, 2, 1, 6, 7, 8, 0, 3, 9]\n",
      "[5, 4, 2, 1, 6, 7, 0, 8, 3, 9]\n",
      "[5, 4, 2, 1, 6, 7, 0, 3, 8, 9]\n",
      "\n",
      "(3/9) 회전\n",
      "[4, 5, 2, 1, 6, 7, 0, 3, 8, 9]\n",
      "[4, 2, 5, 1, 6, 7, 0, 3, 8, 9]\n",
      "[4, 2, 1, 5, 6, 7, 0, 3, 8, 9]\n",
      "[4, 2, 1, 5, 6, 7, 0, 3, 8, 9]\n",
      "[4, 2, 1, 5, 6, 7, 0, 3, 8, 9]\n",
      "[4, 2, 1, 5, 6, 0, 7, 3, 8, 9]\n",
      "[4, 2, 1, 5, 6, 0, 3, 7, 8, 9]\n",
      "\n",
      "(4/9) 회전\n",
      "[2, 4, 1, 5, 6, 0, 3, 7, 8, 9]\n",
      "[2, 1, 4, 5, 6, 0, 3, 7, 8, 9]\n",
      "[2, 1, 4, 5, 6, 0, 3, 7, 8, 9]\n",
      "[2, 1, 4, 5, 6, 0, 3, 7, 8, 9]\n",
      "[2, 1, 4, 5, 0, 6, 3, 7, 8, 9]\n",
      "[2, 1, 4, 5, 0, 3, 6, 7, 8, 9]\n",
      "\n",
      "(5/9) 회전\n",
      "[1, 2, 4, 5, 0, 3, 6, 7, 8, 9]\n",
      "[1, 2, 4, 5, 0, 3, 6, 7, 8, 9]\n",
      "[1, 2, 4, 5, 0, 3, 6, 7, 8, 9]\n",
      "[1, 2, 4, 0, 5, 3, 6, 7, 8, 9]\n",
      "[1, 2, 4, 0, 3, 5, 6, 7, 8, 9]\n",
      "\n",
      "(6/9) 회전\n",
      "[1, 2, 4, 0, 3, 5, 6, 7, 8, 9]\n",
      "[1, 2, 4, 0, 3, 5, 6, 7, 8, 9]\n",
      "[1, 2, 0, 4, 3, 5, 6, 7, 8, 9]\n",
      "[1, 2, 0, 3, 4, 5, 6, 7, 8, 9]\n",
      "\n",
      "(7/9) 회전\n",
      "[1, 2, 0, 3, 4, 5, 6, 7, 8, 9]\n",
      "[1, 0, 2, 3, 4, 5, 6, 7, 8, 9]\n",
      "[1, 0, 2, 3, 4, 5, 6, 7, 8, 9]\n",
      "\n",
      "(8/9) 회전\n",
      "[0, 1, 2, 3, 4, 5, 6, 7, 8, 9]\n",
      "[0, 1, 2, 3, 4, 5, 6, 7, 8, 9]\n",
      "\n",
      "(9/9) 회전\n",
      "[0, 1, 2, 3, 4, 5, 6, 7, 8, 9]\n"
     ]
    },
    {
     "data": {
      "text/plain": [
       "[0, 1, 2, 3, 4, 5, 6, 7, 8, 9]"
      ]
     },
     "execution_count": 9,
     "metadata": {},
     "output_type": "execute_result"
    }
   ],
   "source": [
    "# 버블정렬\n",
    "\n",
    "import random\n",
    "\n",
    "lst = [x for x in range(10)]\n",
    "random.shuffle(lst)\n",
    "print(lst)\n",
    "\n",
    "def bubble(lst):\n",
    "    for i in range(len(lst)-1):\n",
    "        print()\n",
    "        print(\"({}/{}) 회전\".format(i+1, len(lst)-1))\n",
    "        for j in range(len(lst)-1-i):\n",
    "            if lst[j]>lst[j+1]:\n",
    "                lst[j], lst[j+1] = lst[j+1], lst[j]\n",
    "            print(lst)\n",
    "       \n",
    "    return lst\n",
    "\n",
    "bubble(lst)"
   ]
  },
  {
   "cell_type": "code",
   "execution_count": 2,
   "metadata": {},
   "outputs": [
    {
     "name": "stdout",
     "output_type": "stream",
     "text": [
      "[2, 0, 9, 8, 3, 7, 6, 4, 5, 1]\n",
      "\n",
      "키값: 0\n",
      "정렬 전 [2] [0] [9, 8, 3, 7, 6, 4, 5, 1]\n",
      "정렬 후 [0, 2, 9, 8, 3, 7, 6, 4, 5, 1]\n",
      "\n",
      "키값: 9\n",
      "정렬 전 [0, 2] [9] [8, 3, 7, 6, 4, 5, 1]\n",
      "정렬 후 [0, 2, 9, 8, 3, 7, 6, 4, 5, 1]\n",
      "\n",
      "키값: 8\n",
      "정렬 전 [0, 2, 9] [8] [3, 7, 6, 4, 5, 1]\n",
      "정렬 후 [0, 2, 8, 9, 3, 7, 6, 4, 5, 1]\n",
      "\n",
      "키값: 3\n",
      "정렬 전 [0, 2, 8, 9] [3] [7, 6, 4, 5, 1]\n",
      "정렬 후 [0, 2, 3, 8, 9, 7, 6, 4, 5, 1]\n",
      "\n",
      "키값: 7\n",
      "정렬 전 [0, 2, 3, 8, 9] [7] [6, 4, 5, 1]\n",
      "정렬 후 [0, 2, 3, 7, 8, 9, 6, 4, 5, 1]\n",
      "\n",
      "키값: 6\n",
      "정렬 전 [0, 2, 3, 7, 8, 9] [6] [4, 5, 1]\n",
      "정렬 후 [0, 2, 3, 6, 7, 8, 9, 4, 5, 1]\n",
      "\n",
      "키값: 4\n",
      "정렬 전 [0, 2, 3, 6, 7, 8, 9] [4] [5, 1]\n",
      "정렬 후 [0, 2, 3, 4, 6, 7, 8, 9, 5, 1]\n",
      "\n",
      "키값: 5\n",
      "정렬 전 [0, 2, 3, 4, 6, 7, 8, 9] [5] [1]\n",
      "정렬 후 [0, 2, 3, 4, 5, 6, 7, 8, 9, 1]\n",
      "\n",
      "키값: 1\n",
      "정렬 전 [0, 2, 3, 4, 5, 6, 7, 8, 9] [1] []\n",
      "정렬 후 [0, 1, 2, 3, 4, 5, 6, 7, 8, 9]\n"
     ]
    },
    {
     "data": {
      "text/plain": [
       "[0, 1, 2, 3, 4, 5, 6, 7, 8, 9]"
      ]
     },
     "execution_count": 2,
     "metadata": {},
     "output_type": "execute_result"
    }
   ],
   "source": [
    "# 삽입정렬\n",
    "\n",
    "import random\n",
    "\n",
    "lst = [x for x in range(10)]\n",
    "random.shuffle(lst)\n",
    "print(lst)\n",
    "\n",
    "def insertion(lst):\n",
    "    for i in range(1, len(lst)):\n",
    "        print()\n",
    "        print(\"키값:\", lst[i])\n",
    "        print(\"정렬 전\", lst[:i], lst[i:i+1], lst[i+1:])\n",
    "        for j in range(i):\n",
    "            if lst[i] < lst[j]:\n",
    "                lst.insert(j,lst.pop(i))\n",
    "                break\n",
    "        print(\"정렬 후\", lst)\n",
    "        \n",
    "    return lst\n",
    "\n",
    "insertion(lst)"
   ]
  },
  {
   "cell_type": "code",
   "execution_count": 13,
   "metadata": {},
   "outputs": [
    {
     "name": "stdout",
     "output_type": "stream",
     "text": [
      "[1, 5, 9, 0, 2, 3, 6, 4, 7, 8]\n",
      "\n",
      "최소값: 0\n",
      "정렬 전 [] [1, 5, 9, 0, 2, 3, 6, 4, 7, 8]\n",
      "정렬 후 [0] [1, 5, 9, 2, 3, 6, 4, 7, 8]\n",
      "\n",
      "최소값: 1\n",
      "정렬 전 [0] [1, 5, 9, 2, 3, 6, 4, 7, 8]\n",
      "정렬 후 [0, 1] [5, 9, 2, 3, 6, 4, 7, 8]\n",
      "\n",
      "최소값: 2\n",
      "정렬 전 [0, 1] [5, 9, 2, 3, 6, 4, 7, 8]\n",
      "정렬 후 [0, 1, 2] [5, 9, 3, 6, 4, 7, 8]\n",
      "\n",
      "최소값: 3\n",
      "정렬 전 [0, 1, 2] [5, 9, 3, 6, 4, 7, 8]\n",
      "정렬 후 [0, 1, 2, 3] [5, 9, 6, 4, 7, 8]\n",
      "\n",
      "최소값: 4\n",
      "정렬 전 [0, 1, 2, 3] [5, 9, 6, 4, 7, 8]\n",
      "정렬 후 [0, 1, 2, 3, 4] [5, 9, 6, 7, 8]\n",
      "\n",
      "최소값: 5\n",
      "정렬 전 [0, 1, 2, 3, 4] [5, 9, 6, 7, 8]\n",
      "정렬 후 [0, 1, 2, 3, 4, 5] [9, 6, 7, 8]\n",
      "\n",
      "최소값: 6\n",
      "정렬 전 [0, 1, 2, 3, 4, 5] [9, 6, 7, 8]\n",
      "정렬 후 [0, 1, 2, 3, 4, 5, 6] [9, 7, 8]\n",
      "\n",
      "최소값: 7\n",
      "정렬 전 [0, 1, 2, 3, 4, 5, 6] [9, 7, 8]\n",
      "정렬 후 [0, 1, 2, 3, 4, 5, 6, 7] [9, 8]\n",
      "\n",
      "최소값: 8\n",
      "정렬 전 [0, 1, 2, 3, 4, 5, 6, 7] [9, 8]\n",
      "정렬 후 [0, 1, 2, 3, 4, 5, 6, 7, 8] [9]\n",
      "\n",
      "최소값: 9\n",
      "정렬 전 [0, 1, 2, 3, 4, 5, 6, 7, 8] [9]\n",
      "정렬 후 [0, 1, 2, 3, 4, 5, 6, 7, 8, 9] []\n"
     ]
    },
    {
     "data": {
      "text/plain": [
       "[0, 1, 2, 3, 4, 5, 6, 7, 8, 9]"
      ]
     },
     "execution_count": 13,
     "metadata": {},
     "output_type": "execute_result"
    }
   ],
   "source": [
    "# 선택 정렬\n",
    "\n",
    "import random\n",
    "\n",
    "lst = [x for x in range(10)]\n",
    "random.shuffle(lst)\n",
    "print(lst)\n",
    "\n",
    "def selection(lst):\n",
    "    lst_ = []\n",
    "    \n",
    "    for i in range(len(lst)):\n",
    "        print()\n",
    "        print(\"최소값:\", min(lst))\n",
    "        print(\"정렬 전\", lst_, lst)\n",
    "        lst_.append(min(lst))\n",
    "        lst.remove(min(lst))\n",
    "        print(\"정렬 후\", lst_, lst)\n",
    "        \n",
    "    return lst_\n",
    "\n",
    "selection(lst)"
   ]
  },
  {
   "cell_type": "code",
   "execution_count": 17,
   "metadata": {},
   "outputs": [
    {
     "name": "stdout",
     "output_type": "stream",
     "text": [
      "[5, 1, 6, 4, 8, 3, 7, 9, 2, 0]\n",
      "\n",
      "분열\n",
      "[5, 1, 6, 4, 8] [3, 7, 9, 2, 0]\n",
      "\n",
      "분열\n",
      "[5, 1] [6, 4, 8]\n",
      "\n",
      "분열\n",
      "[5] [1]\n",
      "\n",
      "합병\n",
      "[5] [1]\n",
      "[1, 5]\n",
      "\n",
      "분열\n",
      "[6] [4, 8]\n",
      "\n",
      "분열\n",
      "[4] [8]\n",
      "\n",
      "합병\n",
      "[4] [8]\n",
      "[4, 8]\n",
      "\n",
      "합병\n",
      "[6] [4, 8]\n",
      "[4, 6, 8]\n",
      "\n",
      "합병\n",
      "[1, 5] [4, 6, 8]\n",
      "[1, 4, 5, 6, 8]\n",
      "\n",
      "분열\n",
      "[3, 7] [9, 2, 0]\n",
      "\n",
      "분열\n",
      "[3] [7]\n",
      "\n",
      "합병\n",
      "[3] [7]\n",
      "[3, 7]\n",
      "\n",
      "분열\n",
      "[9] [2, 0]\n",
      "\n",
      "분열\n",
      "[2] [0]\n",
      "\n",
      "합병\n",
      "[2] [0]\n",
      "[0, 2]\n",
      "\n",
      "합병\n",
      "[9] [0, 2]\n",
      "[0, 2, 9]\n",
      "\n",
      "합병\n",
      "[3, 7] [0, 2, 9]\n",
      "[0, 2, 3, 7, 9]\n",
      "\n",
      "합병\n",
      "[1, 4, 5, 6, 8] [0, 2, 3, 7, 9]\n",
      "[0, 1, 2, 3, 4, 5, 6, 7, 8, 9]\n"
     ]
    },
    {
     "data": {
      "text/plain": [
       "[0, 1, 2, 3, 4, 5, 6, 7, 8, 9]"
      ]
     },
     "execution_count": 17,
     "metadata": {},
     "output_type": "execute_result"
    }
   ],
   "source": [
    "# 합병정렬\n",
    "\n",
    "import random\n",
    "\n",
    "lst = [x for x in range(10)]\n",
    "random.shuffle(lst)\n",
    "print(lst)\n",
    "\n",
    "def merge_(lst_l, lst_r):\n",
    "    print()\n",
    "    print(\"합병\")\n",
    "    print(lst_l, lst_r)\n",
    "    lst_ = []\n",
    "    while len(lst_l)!=0 and len(lst_r)!=0:\n",
    "        if lst_l[0] < lst_r[0]: lst_.append(lst_l.pop(0))\n",
    "        else: lst_.append(lst_r.pop(0))\n",
    "            \n",
    "    if len(lst_l)==0: lst_ += lst_r\n",
    "    else: lst_ += lst_l\n",
    "            \n",
    "    print(lst_)\n",
    "        \n",
    "    return lst_\n",
    "\n",
    "def merge(lst):\n",
    "    if len(lst)==1: return lst\n",
    "    mid = len(lst)//2\n",
    "    lst_l = lst[:mid]\n",
    "    lst_r = lst[mid:]\n",
    "    print()\n",
    "    print(\"분열\")\n",
    "    print(lst_l, lst_r)\n",
    "    \n",
    "    return merge_( merge(lst_l), merge(lst_r) )\n",
    "\n",
    "merge(lst)"
   ]
  }
 ],
 "metadata": {
  "kernelspec": {
   "display_name": "Python 3",
   "language": "python",
   "name": "python3"
  },
  "language_info": {
   "codemirror_mode": {
    "name": "ipython",
    "version": 3
   },
   "file_extension": ".py",
   "mimetype": "text/x-python",
   "name": "python",
   "nbconvert_exporter": "python",
   "pygments_lexer": "ipython3",
   "version": "3.7.4"
  }
 },
 "nbformat": 4,
 "nbformat_minor": 2
}
