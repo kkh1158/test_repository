{
 "cells": [
  {
   "cell_type": "code",
   "execution_count": 7,
   "metadata": {},
   "outputs": [
    {
     "name": "stdout",
     "output_type": "stream",
     "text": [
      "시작!\n",
      "종료!\n"
     ]
    }
   ],
   "source": [
    "import time\n",
    "\n",
    "t = 10\n",
    "\n",
    "while t:\n",
    "    print(\"{:2}\".format(t), end=\"\\r\")\n",
    "    t -= 1\n",
    "    time.sleep(1)\n",
    "    \n",
    "print(\"종료!\")"
   ]
  }
 ],
 "metadata": {
  "kernelspec": {
   "display_name": "Python 3",
   "language": "python",
   "name": "python3"
  },
  "language_info": {
   "codemirror_mode": {
    "name": "ipython",
    "version": 3
   },
   "file_extension": ".py",
   "mimetype": "text/x-python",
   "name": "python",
   "nbconvert_exporter": "python",
   "pygments_lexer": "ipython3",
   "version": "3.7.4"
  }
 },
 "nbformat": 4,
 "nbformat_minor": 2
}
