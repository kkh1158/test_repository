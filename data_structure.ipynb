{
 "cells": [
  {
   "cell_type": "markdown",
   "metadata": {},
   "source": [
    "# stack(한쪽에서 입출력) LIFO(last in first out)\n",
    "\n",
    "- push(입력)\n",
    "    - append로 구현\n",
    "- pop(출력)\n",
    "    - pop으로 구현\n",
    "- top(입출력이 일어나는쪽)\n",
    "    \n",
    "- bottom(입출력이 일어나지않는쪽)"
   ]
  },
  {
   "cell_type": "code",
   "execution_count": 29,
   "metadata": {},
   "outputs": [],
   "source": [
    "# stack\n",
    "\n",
    "stack = []"
   ]
  },
  {
   "cell_type": "code",
   "execution_count": 33,
   "metadata": {},
   "outputs": [
    {
     "name": "stdout",
     "output_type": "stream",
     "text": [
      "[]\n",
      "[10]\n",
      "[10, 20]\n",
      "[10, 20, 30]\n"
     ]
    }
   ],
   "source": [
    "# push\n",
    "\n",
    "print(stack)\n",
    "stack.append(10)\n",
    "print(stack)\n",
    "stack.append(20)\n",
    "print(stack)\n",
    "stack.append(30)\n",
    "print(stack)"
   ]
  },
  {
   "cell_type": "code",
   "execution_count": 34,
   "metadata": {
    "scrolled": false
   },
   "outputs": [
    {
     "name": "stdout",
     "output_type": "stream",
     "text": [
      "[10, 20, 30]\n",
      "[10, 20]\n",
      "[10]\n"
     ]
    }
   ],
   "source": [
    "# pop\n",
    "\n",
    "print(stack)\n",
    "stack.pop(-1)\n",
    "print(stack)\n",
    "stack.pop(-1)\n",
    "print(stack)"
   ]
  },
  {
   "cell_type": "code",
   "execution_count": 18,
   "metadata": {},
   "outputs": [
    {
     "name": "stdout",
     "output_type": "stream",
     "text": [
      "[10, 20]\n",
      "1\n"
     ]
    }
   ],
   "source": [
    "# top\n",
    "\n",
    "print(stack)\n",
    "print(len(stack)-1)"
   ]
  },
  {
   "cell_type": "markdown",
   "metadata": {},
   "source": [
    "# 스택을 이용한 예제\n",
    "\n",
    "    6\n",
    "    (())())\n",
    "    (((()())()\n",
    "    (()())((()))\n",
    "    ((()()(()))(((())))()\n",
    "    ()()()()(()()())()\n",
    "    (()((())()("
   ]
  },
  {
   "cell_type": "code",
   "execution_count": 19,
   "metadata": {},
   "outputs": [
    {
     "name": "stdout",
     "output_type": "stream",
     "text": [
      "2\n",
      "())\n",
      "안맞음\n",
      "(((\n",
      "안맞음\n"
     ]
    }
   ],
   "source": [
    "#괄호 짝 맞추기\n",
    "\n",
    "mystack = []\n",
    "n = int(input())\n",
    "error=0\n",
    "\n",
    "for _ in range(n):\n",
    "    line = input()\n",
    "    for i in line:\n",
    "        if i == '(':\n",
    "            mystack.append(i)\n",
    "        elif i == ')':\n",
    "            if len(mystack)==0:\n",
    "                error=1\n",
    "                break\n",
    "            else:\n",
    "                mystack.pop(-1)\n",
    "                \n",
    "    if len(mystack)==0 and error==0: print(\"잘맞\")\n",
    "    else: print(\"안맞음\")"
   ]
  },
  {
   "cell_type": "markdown",
   "metadata": {},
   "source": [
    "# queue(한쪽에서 입력 반대편에서 출력) FIFO(first in first out)\n",
    "\n",
    "- enqueue(입력)\n",
    "    - append, insert로 구현\n",
    "    \n",
    "- dequeue(출력)\n",
    "    - pop으로 구현\n",
    "    \n",
    "- front(출력되는쪽)\n",
    "\n",
    "- rear(입력하는쪽)"
   ]
  },
  {
   "cell_type": "code",
   "execution_count": 38,
   "metadata": {},
   "outputs": [],
   "source": [
    "# queue\n",
    "\n",
    "queue = []"
   ]
  },
  {
   "cell_type": "code",
   "execution_count": 39,
   "metadata": {},
   "outputs": [
    {
     "name": "stdout",
     "output_type": "stream",
     "text": [
      "[]\n",
      "[10]\n",
      "[10, 20]\n",
      "[10, 20, 30]\n"
     ]
    }
   ],
   "source": [
    "# enqueue(우측)\n",
    "\n",
    "print(queue)\n",
    "queue.append(10)\n",
    "print(queue)\n",
    "queue.append(20)\n",
    "print(queue)\n",
    "queue.append(30)\n",
    "print(queue)"
   ]
  },
  {
   "cell_type": "code",
   "execution_count": 40,
   "metadata": {},
   "outputs": [
    {
     "name": "stdout",
     "output_type": "stream",
     "text": [
      "[10, 20, 30]\n",
      "[20, 30]\n",
      "[30]\n",
      "[]\n"
     ]
    }
   ],
   "source": [
    "# dequeue(좌측)\n",
    "\n",
    "print(queue)\n",
    "queue.pop(0)\n",
    "print(queue)\n",
    "queue.pop(0)\n",
    "print(queue)\n",
    "queue.pop(0)\n",
    "print(queue)"
   ]
  },
  {
   "cell_type": "code",
   "execution_count": 42,
   "metadata": {},
   "outputs": [
    {
     "name": "stdout",
     "output_type": "stream",
     "text": [
      "[]\n",
      "[10]\n",
      "[20, 10]\n",
      "[30, 20, 10]\n"
     ]
    }
   ],
   "source": [
    "# enqueue(좌측)\n",
    "\n",
    "print(queue)\n",
    "queue.insert(0,10)\n",
    "print(queue)\n",
    "queue.insert(0,20)\n",
    "print(queue)\n",
    "queue.insert(0,30)\n",
    "print(queue)"
   ]
  },
  {
   "cell_type": "code",
   "execution_count": 43,
   "metadata": {},
   "outputs": [
    {
     "name": "stdout",
     "output_type": "stream",
     "text": [
      "[30, 20, 10]\n",
      "[30, 20]\n",
      "[30]\n",
      "[]\n"
     ]
    }
   ],
   "source": [
    "# dequeue(우측)\n",
    "\n",
    "print(queue)\n",
    "queue.pop(-1)\n",
    "print(queue)\n",
    "queue.pop(-1)\n",
    "print(queue)\n",
    "queue.pop(-1)\n",
    "print(queue)"
   ]
  },
  {
   "cell_type": "markdown",
   "metadata": {},
   "source": [
    "# 큐를 이용한 예제\n",
    "\n",
    "요세푸스 문제는 다음과 같다.\n",
    "\n",
    "1번부터 N번까지 N명의 사람이 원을 이루면서 앉아있고, 양의 정수 K(≤ N)가 주어진다. 이제 순서대로 K번째 사람을 제거한다. 한 사람이 제거되면 남은 사람들로 이루어진 원을 따라 이 과정을 계속해 나간다. 이 과정은 N명의 사람이 모두 제거될 때까지 계속된다. 원에서 사람들이 제거되는 순서를 (N, K)-요세푸스 순열이라고 한다. 예를 들어 (7, 3)-요세푸스 순열은 <3, 6, 2, 7, 5, 1, 4>이다.\n",
    "\n",
    "N과 K가 주어지면 (N, K)-요세푸스 순열을 구하는 프로그램을 작성하시오."
   ]
  },
  {
   "cell_type": "code",
   "execution_count": 22,
   "metadata": {
    "scrolled": false
   },
   "outputs": [
    {
     "name": "stdout",
     "output_type": "stream",
     "text": [
      "7 3\n",
      "<3, 6, 2, 7, 5, 1, 4>\n"
     ]
    }
   ],
   "source": [
    "#n, k = input().split()\n",
    "#n, k = int(n), int(k)\n",
    "n, k = map(int, input().split())\n",
    "\n",
    "#n, k = 7, 3\n",
    "queue = [x for x in range(1, n+1)]\n",
    "yose = []\n",
    "\n",
    "for _ in range(n):\n",
    "    for _ in range(k-1):\n",
    "        queue.append(queue.pop(0))\n",
    "    yose.append(queue.pop(0))\n",
    "#print(yose)\n",
    "\n",
    "print(\"<\", end=\"\")\n",
    "for i in range(n-1):\n",
    "    print(yose[i], end=\", \")\n",
    "print(\"{}>\".format(yose[-1]))"
   ]
  },
  {
   "cell_type": "markdown",
   "metadata": {},
   "source": [
    "N장의 카드가 있다. 각각의 카드는 차례로 1부터 N까지의 번호가 붙어 있으며, 1번 카드가 제일 위에, N번 카드가 제일 아래인 상태로 순서대로 카드가 놓여 있다.\n",
    "\n",
    "이제 다음과 같은 동작을 카드가 한 장 남을 때까지 반복하게 된다. 우선, 제일 위에 있는 카드를 바닥에 버린다. 그 다음, 제일 위에 있는 카드를 제일 아래에 있는 카드 밑으로 옮긴다.\n",
    "\n",
    "예를 들어 N=4인 경우를 생각해 보자. 카드는 제일 위에서부터 1234 의 순서로 놓여있다. 1을 버리면 234가 남는다. 여기서 2를 제일 아래로 옮기면 342가 된다. 3을 버리면 42가 되고, 4를 밑으로 옮기면 24가 된다. 마지막으로 2를 버리고 나면, 남는 카드는 4가 된다.\n",
    "\n",
    "N이 주어졌을 때, 제일 마지막에 남게 되는 카드를 구하는 프로그램을 작성하시오."
   ]
  },
  {
   "cell_type": "code",
   "execution_count": 33,
   "metadata": {},
   "outputs": [
    {
     "name": "stdout",
     "output_type": "stream",
     "text": [
      "4000\n",
      "3904\n"
     ]
    }
   ],
   "source": [
    "n = int(input())\n",
    "\n",
    "queue = [x for x in range(1, n+1)]\n",
    "\n",
    "while len(queue)>1:\n",
    "    queue.pop(0)\n",
    "    queue.append(queue.pop(0))\n",
    "    \n",
    "print(queue[0])"
   ]
  },
  {
   "cell_type": "code",
   "execution_count": 36,
   "metadata": {},
   "outputs": [
    {
     "name": "stdout",
     "output_type": "stream",
     "text": [
      "10\n",
      "[10, 9, 8, 7, 6, 5, 4, 3, 2, 1]\n",
      "4\n"
     ]
    }
   ],
   "source": [
    "n = int(input())\n",
    "\n",
    "queue = [x for x in range(n, 0, -1)]\n",
    "\n",
    "while len(queue)>1:\n",
    "    queue.pop(-1)\n",
    "    queue.insert(0, queue.pop(-1))\n",
    "    \n",
    "print(queue[0])"
   ]
  },
  {
   "cell_type": "code",
   "execution_count": 51,
   "metadata": {},
   "outputs": [
    {
     "name": "stdout",
     "output_type": "stream",
     "text": [
      "500000\n",
      "475712\n"
     ]
    }
   ],
   "source": [
    "from collections import deque\n",
    "\n",
    "n = int(input())\n",
    "\n",
    "q = deque()\n",
    "for i in range(1, n+1):\n",
    "    q.append(i)\n",
    "    \n",
    "while len(q)>1:\n",
    "    q.popleft()\n",
    "    q.append(q.popleft())\n",
    "\n",
    "print(q[0])"
   ]
  },
  {
<<<<<<< HEAD
   "cell_type": "markdown",
   "metadata": {},
   "source": [
    "# sort\n",
    "\n",
    "- 버블\n",
    "\n",
    "- 삽입\n",
    "\n",
    "- 합병"
   ]
  },
  {
=======
>>>>>>> master
   "cell_type": "code",
   "execution_count": null,
   "metadata": {},
   "outputs": [],
   "source": []
  }
 ],
 "metadata": {
  "kernelspec": {
   "display_name": "Python 3",
   "language": "python",
   "name": "python3"
  },
  "language_info": {
   "codemirror_mode": {
    "name": "ipython",
    "version": 3
   },
   "file_extension": ".py",
   "mimetype": "text/x-python",
   "name": "python",
   "nbconvert_exporter": "python",
   "pygments_lexer": "ipython3",
   "version": "3.7.4"
  }
 },
 "nbformat": 4,
 "nbformat_minor": 2
}
